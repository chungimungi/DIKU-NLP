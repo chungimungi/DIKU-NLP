{
 "cells": [
  {
   "cell_type": "code",
   "execution_count": 2,
   "id": "9a9e0197",
   "metadata": {
    "is_executing": true
   },
   "outputs": [
    {
     "name": "stdout",
     "output_type": "stream",
     "text": [
      "Train size: lang\n",
      "bn    2598\n",
      "ar    2558\n",
      "ko    2422\n",
      "ja    2301\n",
      "fi    2126\n",
      "ru    1983\n",
      "te    1355\n",
      "Name: count, dtype: int64\n",
      "Validation size: lang\n",
      "fi    528\n",
      "bn    476\n",
      "ja    456\n",
      "ar    415\n",
      "ru    396\n",
      "te    384\n",
      "ko    356\n",
      "Name: count, dtype: int64\n"
     ]
    }
   ],
   "source": [
    "import regex as re\n",
    "import pandas as pd\n",
    "\n",
    "from datasets import load_dataset\n",
    "dataset = load_dataset(\"coastalcph/tydi_xor_rc\")\n",
    "df_train = dataset[\"train\"].to_pandas()\n",
    "df_val = dataset[\"validation\"].to_pandas()\n",
    "\n",
    "print(f\"Train size:\",df_train[\"lang\"].value_counts())\n",
    "print(f\"Validation size:\",df_val[\"lang\"].value_counts())\n",
    "\n"
   ]
  },
  {
   "cell_type": "code",
   "execution_count": 3,
   "id": "4f6a6bc6c1c29f1f",
   "metadata": {},
   "outputs": [
    {
     "name": "stdout",
     "output_type": "stream",
     "text": [
      "First Columns                                             question  \\\n",
      "0  উইকিলিকস কত সালে সর্বপ্রথম ইন্টারনেটে প্রথম তথ...   \n",
      "\n",
      "                                             context lang  answerable  \\\n",
      "0  WikiLeaks () is an international non-profit or...   bn        True   \n",
      "\n",
      "   answer_start answer answer_inlang  \n",
      "0           182   2006          None  \n"
     ]
    }
   ],
   "source": [
    "print(\"First Columns\", df_train.head(1))"
   ]
  },
  {
   "cell_type": "markdown",
   "id": "e43238ec",
   "metadata": {},
   "source": [
    "#### Checking Data Size"
   ]
  },
  {
   "cell_type": "code",
   "execution_count": 4,
   "id": "b0cf5d44e620bfd3",
   "metadata": {},
   "outputs": [],
   "source": [
    "l = [\"ar\", \"ko\", \"te\", \"en\"]\n",
    "df_train = df_train[df_train[\"lang\"].isin(l)]\n",
    "df_val = df_val[df_val[\"lang\"].isin(l)]"
   ]
  },
  {
   "cell_type": "code",
   "execution_count": 5,
   "id": "510c1641df360eb",
   "metadata": {},
   "outputs": [
    {
     "name": "stdout",
     "output_type": "stream",
     "text": [
      "Train Size: (6335, 7)\n",
      "Validation Size: (1155, 7)\n",
      "Train Size per Language\n",
      "lang\n",
      "ar    2558\n",
      "ko    2422\n",
      "te    1355\n",
      "Name: count, dtype: int64\n",
      "Validation Size per Language\n",
      "lang\n",
      "ar    415\n",
      "te    384\n",
      "ko    356\n",
      "Name: count, dtype: int64\n"
     ]
    }
   ],
   "source": [
    "print(f\"Train Size: {df_train.shape}\")\n",
    "print(f\"Validation Size: {df_val.shape}\")\n",
    "\n",
    "train_lan = df_train['lang'].value_counts()\n",
    "val_len = df_val['lang'].value_counts()\n",
    "print(\"Train Size per Language\")\n",
    "print(train_lan)\n",
    "print(\"Validation Size per Language\")\n",
    "print(val_len) "
   ]
  },
  {
   "cell_type": "markdown",
   "id": "fe9eaa490b84337",
   "metadata": {},
   "source": [
    "### Word Count"
   ]
  },
  {
   "cell_type": "code",
   "execution_count": 6,
   "id": "9a802bae9358721c",
   "metadata": {},
   "outputs": [
    {
     "name": "stdout",
     "output_type": "stream",
     "text": [
      "Word Counts Total Dataset\n",
      "Word counts for Arabic: 18819\n",
      "Word counts for Korean: 13600\n",
      "Word counts for Telegu: 9992\n",
      "------------------------------\n",
      "Word Counts Training Dataset\n",
      "Word counts for Arabic: 16202\n",
      "Word counts for Korean: 11863\n",
      "Word counts for Telegu: 7690\n",
      "------------------------------\n",
      "Word Counts Validation Dataset\n",
      "Word counts for Arabic: 2617\n",
      "Word counts for Korean: 1737\n",
      "Word counts for Telegu: 2302\n",
      "------------------------------\n"
     ]
    }
   ],
   "source": [
    "df_total = pd.concat([df_val, df_train], axis=0)\n",
    "df_total.reset_index(drop=True)\n",
    "\n",
    "#Different Dataframes for Stats use\n",
    "ar, ko, te = df_total[df_total[\"lang\"] == \"ar\"], df_total[df_total[\"lang\"] == \"ko\"], df_total[df_total[\"lang\"] == \"te\"]\n",
    "ar_val, ko_val, te_val = df_val[df_val[\"lang\"] == \"ar\"], df_val[df_val[\"lang\"] == \"ko\"], df_val[df_val[\"lang\"] == \"te\"]\n",
    "ar_tra, ko_tra, te_tra = df_train[df_train[\"lang\"] == \"ar\"], df_train[df_train[\"lang\"] == \"ko\"], df_train[df_train[\"lang\"] == \"te\"]\n",
    "\n",
    "def word_list(df):\n",
    "    words = [re.findall(r'\\w+', quest) for quest in df[\"question\"]]\n",
    "    return [w for q in words for w in q]\n",
    "\n",
    "def PrintWordCountStats(langs_df, labels, title):     \n",
    "    langs_words = [word_list(l) for l in langs_df]\n",
    "    print(title)\n",
    "    for i in range(len(langs_words)):\n",
    "            print(f\"Word counts for {labels[i]}: {len(langs_words[i])}\")\n",
    "    print(\"-\"*30)\n",
    "\n",
    "labels = [\"Arabic\", \"Korean\", \"Telegu\"]\n",
    "\n",
    "PrintWordCountStats([ar,ko,te], labels, \"Word Counts Total Dataset\")\n",
    "PrintWordCountStats([ar_tra,ko_tra,te_tra], labels, \"Word Counts Training Dataset\")\n",
    "PrintWordCountStats([ar_val,ko_val,te_val], labels, \"Word Counts Validation Dataset\")\n"
   ]
  },
  {
   "cell_type": "markdown",
   "id": "5c64670b3be17d39",
   "metadata": {},
   "source": [
    "### Token Count"
   ]
  },
  {
   "cell_type": "code",
   "execution_count": 7,
   "id": "4051230f5ee663c7",
   "metadata": {},
   "outputs": [
    {
     "name": "stdout",
     "output_type": "stream",
     "text": [
      "Word Counts Total Dataset\n",
      "Word counts for Arabic: 39337\n",
      "Word counts for Korean: 29604\n",
      "Word counts for Telegu: 23385\n",
      "------------------------------\n",
      "Word Counts Training Dataset\n",
      "Word counts for Arabic: 33733\n",
      "Word counts for Korean: 25829\n",
      "Word counts for Telegu: 18365\n",
      "------------------------------\n",
      "Word Counts Validation Dataset\n",
      "Word counts for Arabic: 5604\n",
      "Word counts for Korean: 3775\n",
      "Word counts for Telegu: 5020\n",
      "------------------------------\n"
     ]
    }
   ],
   "source": [
    "from transformers import AutoTokenizer\n",
    "tokenizer = AutoTokenizer.from_pretrained(\"facebook/nllb-200-distilled-600M\")\n",
    "\n",
    "\n",
    "def token_count(text):\n",
    "    return len(tokenizer.tokenize(text))\n",
    "\n",
    "def PrintTokenCountStats(langs_df, labels, title):\n",
    "    print(title)\n",
    "    for i in range(len(langs_df)):\n",
    "        print(f\"Word counts for {labels[i]}: {langs_df[i]['question'].apply(token_count).sum()}\")\n",
    "    print(\"-\"*30)\n",
    "\n",
    "PrintTokenCountStats([ar, ko, te], labels, \"Word Counts Total Dataset\")\n",
    "PrintTokenCountStats([ar_tra, ko_tra, te_tra], labels, \"Word Counts Training Dataset\")\n",
    "PrintTokenCountStats([ar_val, ko_val, te_val], labels, \"Word Counts Validation Dataset\")"
   ]
  },
  {
   "cell_type": "markdown",
   "id": "1b421852068a1ecc",
   "metadata": {},
   "source": [
    "### Most Common Words"
   ]
  },
  {
   "cell_type": "code",
   "execution_count": null,
   "id": "a5274995debc0596",
   "metadata": {},
   "outputs": [],
   "source": [
    "# 5 Most common words \n",
    "from wordcloud import WordCloud\n",
    "import matplotlib.pyplot as plt\n",
    "import arabic_reshaper\n",
    "from bidi.algorithm import get_display\n",
    "\n",
    "ar_words, ko_words, te_words = word_list(ar), word_list(ko), word_list(te)\n",
    "\n",
    "def CreateWordCloud(wordlist, font, arabic=False):\n",
    "    wordlist = \" \".join(wordlist)\n",
    "    if arabic:\n",
    "        wordlist = arabic_reshaper.reshape(wordlist)\n",
    "        wordlist = get_display(wordlist)\n",
    "    return WordCloud(font_path=font, background_color='white').generate(wordlist)\n",
    "\n",
    "def DisplayWordClouds(w_clouds, labels):\n",
    "    plt.figure(figsize=(5*len(w_clouds), 5), dpi=600)\n",
    "\n",
    "    for i in range(len(w_clouds)):\n",
    "        plt.subplot(1, 3, i+1)\n",
    "        plt.imshow(w_clouds[i], interpolation='bilinear')\n",
    "        plt.title(labels[i])\n",
    "        plt.axis('off')\n",
    "    plt.show()\n",
    "\n",
    "\n",
    "ar_wcloud = CreateWordCloud(ar_words, \"arial.ttf\", arabic=True)\n",
    "ko_wcloud = CreateWordCloud(ko_words, \"malgun.ttf\")\n",
    "te_wcloud = CreateWordCloud(te_words, \"gautami.ttf\")\n",
    "\n",
    "DisplayWordClouds([ar_wcloud, ko_wcloud, te_wcloud], labels)"
   ]
  },
  {
   "cell_type": "code",
   "execution_count": null,
   "id": "4b219f1a",
   "metadata": {},
   "outputs": [
    {
     "name": "stdout",
     "output_type": "stream",
     "text": [
      "\n",
      "Arabic - Top 5 words:\n",
      "----------------------------------------\n",
      " 1. 'من': 700 occurrences\n",
      " 2. 'في': 683 occurrences\n",
      " 3. 'متى': 601 occurrences\n",
      " 4. 'ما': 524 occurrences\n",
      " 5. 'هو': 416 occurrences\n",
      "\n",
      "Korean - Top 5 words:\n",
      "----------------------------------------\n",
      " 1. '가장': 593 occurrences\n",
      " 2. '무엇인가': 572 occurrences\n",
      " 3. '언제': 380 occurrences\n",
      " 4. '어디인가': 257 occurrences\n",
      " 5. '몇': 255 occurrences\n",
      "\n",
      "Telugu - Top 5 words:\n",
      "----------------------------------------\n",
      " 1. 'ఎవరు': 348 occurrences\n",
      " 2. 'ఏది': 268 occurrences\n",
      " 3. 'ఏ': 236 occurrences\n",
      " 4. 'ఎన్ని': 191 occurrences\n",
      " 5. 'ఎప్పుడు': 185 occurrences\n"
     ]
    }
   ],
   "source": [
    "from collections import Counter\n",
    "\n",
    "def get_top_words(word_list, n=5):\n",
    "    counter = Counter(word_list)\n",
    "    return counter.most_common(n)\n",
    "\n",
    "def get_top_words_only(word_list, n=5):\n",
    "    counter = Counter(word_list)\n",
    "    return [word for word, count in counter.most_common(n)]\n",
    "\n",
    "def print_top_words(word_list, language_name, n=5):\n",
    "    counter = Counter(word_list)\n",
    "    top_words = counter.most_common(n)\n",
    "    \n",
    "    print(f\"\\n{language_name} - Top {n} words:\")\n",
    "    print(\"-\" * 40)\n",
    "    for i, (word, count) in enumerate(top_words, 1):\n",
    "        print(f\"{i:2d}. '{word}': {count} occurrences\")\n",
    "\n",
    "\n",
    "ar_top5_with_counts = get_top_words(ar_words, 5)\n",
    "ko_top5_with_counts = get_top_words(ko_words, 5)\n",
    "te_top5_with_counts = get_top_words(te_words, 5)\n",
    "\n",
    "ar_top5 = get_top_words_only(ar_words, 5)\n",
    "ko_top5 = get_top_words_only(ko_words, 5)\n",
    "te_top5 = get_top_words_only(te_words, 5)\n",
    "\n",
    "print_top_words(ar_words, \"Arabic\", 5)\n",
    "print_top_words(ko_words, \"Korean\", 5)\n",
    "print_top_words(te_words, \"Telugu\", 5)"
   ]
  },
  {
   "cell_type": "code",
   "execution_count": 23,
   "id": "277b2648",
   "metadata": {},
   "outputs": [
    {
     "name": "stdout",
     "output_type": "stream",
     "text": [
      "Arabic to English translations:\n",
      "['I am from ', 'In the ', 'When?', 'We are not.', 'He is the ']\n",
      "\n",
      "Korean to English translations:\n",
      "['The most', 'Something.', 'When?', 'Where are you?', 'A few.']\n",
      "\n",
      "Telugu to English translations:\n",
      "['Who is it?', 'What is it?', 'No, not at all.', 'How many', 'When']\n"
     ]
    }
   ],
   "source": [
    "ar_top5 = get_top_words_only(ar_words, 5)\n",
    "ko_top5 = get_top_words_only(ko_words, 5)   \n",
    "te_top5 = get_top_words_only(te_words, 5)\n",
    "\n",
    "from transformers import AutoTokenizer, AutoModelForSeq2SeqLM\n",
    "\n",
    "tokenizer = AutoTokenizer.from_pretrained(\"facebook/nllb-200-distilled-600M\")\n",
    "model = AutoModelForSeq2SeqLM.from_pretrained(\"facebook/nllb-200-distilled-600M\")\n",
    "\n",
    "tokenizer.src_lang = \"ara_Arab\"\n",
    "inputs = tokenizer(ar_top5, return_tensors=\"pt\", padding=True)\n",
    "forced_bos_token_id = tokenizer.convert_tokens_to_ids(\"eng_Latn\")\n",
    "outputs = model.generate(**inputs, forced_bos_token_id=forced_bos_token_id)\n",
    "print(\"Arabic to English translations:\")\n",
    "print(tokenizer.batch_decode(outputs, skip_special_tokens=True))\n",
    "\n",
    "tokenizer.src_lang = \"kor_Hang\"\n",
    "inputs_ko = tokenizer(ko_top5, return_tensors=\"pt\", padding=True)\n",
    "outputs_ko = model.generate(**inputs_ko, forced_bos_token_id=forced_bos_token_id)\n",
    "print(\"\\nKorean to English translations:\")\n",
    "print(tokenizer.batch_decode(outputs_ko, skip_special_tokens=True))\n",
    "\n",
    "tokenizer.src_lang = \"tel_Telu\"\n",
    "inputs_te = tokenizer(te_top5, return_tensors=\"pt\", padding=True)\n",
    "outputs_te = model.generate(**inputs_te, forced_bos_token_id=forced_bos_token_id)\n",
    "print(\"\\nTelugu to English translations:\")\n",
    "print(tokenizer.batch_decode(outputs_te, skip_special_tokens=True))"
   ]
  },
  {
   "cell_type": "markdown",
   "id": "805fc339420cce31",
   "metadata": {},
   "source": [
    "### Translation"
   ]
  },
  {
   "cell_type": "code",
   "execution_count": null,
   "id": "3fc04b74",
   "metadata": {},
   "outputs": [],
   "source": [
    "from transformers import AutoTokenizer, AutoModelForSeq2SeqLM\n",
    "\n",
    "tokenizer = AutoTokenizer.from_pretrained(\"facebook/nllb-200-distilled-600M\")\n",
    "model = AutoModelForSeq2SeqLM.from_pretrained(\"facebook/nllb-200-distilled-600M\")\n",
    "\n",
    "ko = ko.sample(5)\n",
    "print(ko[\"question\"].tolist())\n",
    "\n",
    "tokenizer.src_lang = \"kor_Hang\"\n",
    "inputs = tokenizer(ko[\"question\"].tolist(), return_tensors=\"pt\", padding=True)\n",
    "forced_bos_token_id = tokenizer.convert_tokens_to_ids(\"eng_Latn\")\n",
    "\n",
    "outputs = model.generate(**inputs, forced_bos_token_id=forced_bos_token_id)\n",
    "print(tokenizer.batch_decode(outputs, skip_special_tokens=True))\n"
   ]
  },
  {
   "cell_type": "code",
   "execution_count": null,
   "id": "65b900f8",
   "metadata": {},
   "outputs": [
    {
     "name": "stderr",
     "output_type": "stream",
     "text": [
      "Translating ar: 100%|██████████| 52/52 [01:12<00:00,  1.39s/it]\n",
      "Translating ar: 100%|██████████| 52/52 [45:24<00:00, 52.39s/it]\n",
      "Predicting ar: 100%|██████████| 415/415 [00:00<00:00, 29342.17it/s]\n",
      "Translating ko: 100%|██████████| 45/45 [00:57<00:00,  1.28s/it]\n",
      "Translating ko: 100%|██████████| 45/45 [37:46<00:00, 50.37s/it]\n",
      "Predicting ko: 100%|██████████| 356/356 [00:00<00:00, 29267.56it/s]\n",
      "Translating te: 100%|██████████| 48/48 [01:04<00:00,  1.35s/it]\n",
      "Translating te: 100%|██████████| 48/48 [33:19<00:00, 41.65s/it]\n",
      "Predicting te: 100%|██████████| 384/384 [00:00<00:00, 32483.82it/s]"
     ]
    },
    {
     "name": "stdout",
     "output_type": "stream",
     "text": [
      "Performance by language:\n",
      "ar {'accuracy': 0.7975903614457831, 'precision': 0.8780487804878049, 'recall': 0.8925619834710744, 'f1': 0.8852459016393442}\n",
      "ko {'accuracy': 0.8258426966292135, 'precision': 0.9508196721311475, 'recall': 0.8605341246290801, 'f1': 0.9034267912772586}\n",
      "te {'accuracy': 0.7864583333333334, 'precision': 0.8028985507246377, 'recall': 0.9518900343642611, 'f1': 0.8710691823899371}\n"
     ]
    },
    {
     "name": "stderr",
     "output_type": "stream",
     "text": [
      "\n"
     ]
    }
   ],
   "source": [
    "import pandas as pd\n",
    "import torch\n",
    "from transformers import AutoTokenizer, AutoModelForSeq2SeqLM\n",
    "from sklearn.metrics import accuracy_score, precision_recall_fscore_support\n",
    "import re\n",
    "from tqdm import tqdm\n",
    "\n",
    "splits = {'train': 'train.parquet', 'validation': 'validation.parquet'}\n",
    "df_val = pd.read_parquet(\"hf://datasets/coastalcph/tydi_xor_rc/\" + splits[\"validation\"])\n",
    "\n",
    "tokenizer = AutoTokenizer.from_pretrained(\"facebook/nllb-200-distilled-600M\")\n",
    "model = AutoModelForSeq2SeqLM.from_pretrained(\"facebook/nllb-200-distilled-600M\")\n",
    "\n",
    "device = \"cuda\" if torch.cuda.is_available() else \"cpu\"\n",
    "model.to(device)\n",
    "\n",
    "lang_codes = {\"ar\": \"ara_Arab\", \"ko\": \"kor_Hang\", \"te\": \"tel_Telu\"}\n",
    "\n",
    "def translate_to_en(texts, src_lang):\n",
    "    tokenizer.src_lang = lang_codes[src_lang]\n",
    "    outputs = []\n",
    "    \n",
    "    for i in tqdm(range(0, len(texts), 8), desc=f\"Translating {src_lang}\"):\n",
    "        batch = texts[i:i+8]\n",
    "        inputs = tokenizer(batch, return_tensors=\"pt\", padding=True, truncation=True).to(device)\n",
    "        \n",
    "        bos_token_id = tokenizer.convert_tokens_to_ids(\"eng_Latn\")\n",
    "        \n",
    "        out = model.generate(**inputs, forced_bos_token_id=bos_token_id)\n",
    "        outputs.extend(tokenizer.batch_decode(out, skip_special_tokens=True))\n",
    "    \n",
    "    return outputs\n",
    "\n",
    "def preprocess(text):\n",
    "    text = text.lower()\n",
    "    text = re.sub(r\"[^a-z0-9\\s]\", \"\", text)\n",
    "    tokens = text.split()\n",
    "    stopwords = {\"the\",\"is\",\"a\",\"an\",\"in\",\"on\",\"at\",\"and\",\"of\",\"to\",\"for\",\"with\"}\n",
    "    return set(t for t in tokens if t not in stopwords)\n",
    "\n",
    "def predict_answerable(question, context):\n",
    "    return 1 if len(preprocess(question) & preprocess(context)) > 0 else 0\n",
    "\n",
    "results = {}\n",
    "\n",
    "for lang in [\"ar\", \"ko\", \"te\"]:\n",
    "    subset = df_val[df_val[\"lang\"] == lang].copy()\n",
    "    \n",
    "    subset[\"question_en\"] = translate_to_en(subset[\"question\"].tolist(), lang)\n",
    "    subset[\"context_en\"] = translate_to_en(subset[\"context\"].tolist(), lang)\n",
    "    \n",
    "    subset[\"pred\"] = [predict_answerable(q, c) for q, c in tqdm(zip(subset[\"question_en\"], subset[\"context_en\"]), total=len(subset), desc=f\"Predicting {lang}\")]\n",
    "    \n",
    "    acc = accuracy_score(subset[\"answerable\"], subset[\"pred\"])\n",
    "    prec, rec, f1, _ = precision_recall_fscore_support(subset[\"answerable\"], subset[\"pred\"], average=\"binary\")\n",
    "    \n",
    "    results[lang] = {\"accuracy\": acc, \"precision\": prec, \"recall\": rec, \"f1\": f1}\n",
    "\n",
    "print(\"Performance by language:\")\n",
    "for lang, metrics in results.items():\n",
    "    print(lang, metrics)"
   ]
  }
 ],
 "metadata": {
  "kernelspec": {
   "display_name": "Python 3",
   "language": "python",
   "name": "python3"
  },
  "language_info": {
   "codemirror_mode": {
    "name": "ipython",
    "version": 3
   },
   "file_extension": ".py",
   "mimetype": "text/x-python",
   "name": "python",
   "nbconvert_exporter": "python",
   "pygments_lexer": "ipython3",
   "version": "3.10.0"
  }
 },
 "nbformat": 4,
 "nbformat_minor": 5
}
