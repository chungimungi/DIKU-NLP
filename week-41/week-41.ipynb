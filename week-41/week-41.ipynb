{
 "cells": [
  {
   "cell_type": "markdown",
   "id": "19c40900",
   "metadata": {},
   "source": [
    "Import Test Data"
   ]
  },
  {
   "cell_type": "code",
   "execution_count": 2,
   "id": "b2725f9c",
   "metadata": {},
   "outputs": [],
   "source": [
    "import pandas as pd\n",
    "import json\n",
    "\n",
    "with open(\"../week-41/question.json\", \"r\") as f:\n",
    "    test_data = json.load(f)\n",
    "\n",
    "df_test = pd.DataFrame(test_data[\"questions\"])"
   ]
  },
  {
   "cell_type": "markdown",
   "id": "413d9e6c",
   "metadata": {},
   "source": [
    "## Part 1: Rule-based Classifier "
   ]
  },
  {
   "cell_type": "code",
   "execution_count": null,
   "id": "74b261ff",
   "metadata": {},
   "outputs": [
    {
     "name": "stderr",
     "output_type": "stream",
     "text": [
      "Translating pt: 100%|██████████| 2/2 [00:01<00:00,  1.85it/s]\n",
      "Translating pt: 100%|██████████| 2/2 [00:09<00:00,  4.52s/it]\n",
      "Predicting pt: 100%|██████████| 10/10 [00:00<00:00, 57772.78it/s]\n",
      "Translating ja: 100%|██████████| 2/2 [00:01<00:00,  1.65it/s]\n",
      "Translating ja: 100%|██████████| 2/2 [00:08<00:00,  4.38s/it]\n",
      "Predicting ja: 100%|██████████| 10/10 [00:00<00:00, 63743.22it/s]\n",
      "Translating hi: 100%|██████████| 2/2 [00:00<00:00,  2.27it/s]\n",
      "Translating hi: 100%|██████████| 2/2 [00:08<00:00,  4.02s/it]\n",
      "Predicting hi: 100%|██████████| 10/10 [00:00<00:00, 50412.31it/s]"
     ]
    },
    {
     "name": "stdout",
     "output_type": "stream",
     "text": [
      "Performance by language:\n",
      "pt {'accuracy': 0.8, 'precision': 0.8, 'recall': 1.0, 'f1': 0.8888888888888888}\n",
      "ja {'accuracy': 0.8, 'precision': 0.875, 'recall': 0.875, 'f1': 0.875}\n",
      "hi {'accuracy': 0.9, 'precision': 0.8888888888888888, 'recall': 1.0, 'f1': 0.9411764705882353}\n"
     ]
    },
    {
     "name": "stderr",
     "output_type": "stream",
     "text": [
      "\n"
     ]
    }
   ],
   "source": [
    "from transformers import AutoTokenizer, AutoModelForSeq2SeqLM\n",
    "from sklearn.metrics import accuracy_score, precision_recall_fscore_support\n",
    "import re\n",
    "from tqdm import tqdm\n",
    "\n",
    "tokenizer = AutoTokenizer.from_pretrained(\"facebook/nllb-200-distilled-600M\")\n",
    "model = AutoModelForSeq2SeqLM.from_pretrained(\"facebook/nllb-200-distilled-600M\")\n",
    "\n",
    "device = \"mps\"\n",
    "model.to(device)\n",
    "\n",
    "lang_codes = {\n",
    "    \"pt\": \"por_Latn\",\n",
    "    \"ja\": \"jpn_Jpan\",\n",
    "    \"hi\": \"hin_Deva\"\n",
    "}\n",
    "\n",
    "def translate_to_en(texts, src_lang):\n",
    "    tokenizer.src_lang = lang_codes[src_lang]\n",
    "    outputs = []\n",
    "    \n",
    "    for i in tqdm(range(0, len(texts), 8), desc=f\"Translating {src_lang}\"):\n",
    "        batch = texts[i:i+8]\n",
    "        inputs = tokenizer(batch, return_tensors=\"pt\", padding=True, truncation=True).to(device)\n",
    "        \n",
    "        bos_token_id = tokenizer.convert_tokens_to_ids(\"eng_Latn\")\n",
    "        \n",
    "        out = model.generate(**inputs, forced_bos_token_id=bos_token_id)\n",
    "        outputs.extend(tokenizer.batch_decode(out, skip_special_tokens=True))\n",
    "    \n",
    "    return outputs\n",
    "\n",
    "def preprocess(text):\n",
    "    text = text.lower()\n",
    "    text = re.sub(r\"[^a-z0-9\\s]\", \"\", text)\n",
    "    tokens = text.split()\n",
    "    stopwords = {\"the\",\"is\",\"was\",\"did\",\"does\",\"a\",\"an\",\"in\",\"on\",\"at\",\"and\",\"of\",\"to\",\"for\",\"with\",\"who\",\"what\",\"when\",\"where\", \"why\",\"how\"}\n",
    "    return set(t for t in tokens if t not in stopwords)\n",
    "\n",
    "def predict_answerable(question, context):\n",
    "    return 1 if len(preprocess(question) & preprocess(context)) > 0 else 0\n",
    "\n",
    "results = {}\n",
    "\n",
    "for lang in df_test[\"lang\"].unique():\n",
    "    subset = df_test[df_test[\"lang\"] == lang].copy()\n",
    "    \n",
    "    subset[\"question_en\"] = translate_to_en(subset[\"question\"].tolist(), lang)\n",
    "    subset[\"context_en\"] = translate_to_en(subset[\"context\"].tolist(), lang)\n",
    "    \n",
    "    subset[\"pred\"] = [predict_answerable(q, c) for q, c in tqdm(zip(subset[\"question_en\"], subset[\"context_en\"]), total=len(subset), desc=f\"Predicting {lang}\")]\n",
    "    \n",
    "    acc = accuracy_score(subset[\"answerable\"], subset[\"pred\"])\n",
    "    prec, rec, f1, _ = precision_recall_fscore_support(subset[\"answerable\"], subset[\"pred\"], average=\"binary\")\n",
    "    \n",
    "    results[lang] = {\"accuracy\": acc, \"precision\": prec, \"recall\": rec, \"f1\": f1}\n",
    "\n",
    "print(\"Performance by language:\")\n",
    "for lang, metrics in results.items():\n",
    "    print(lang, metrics)"
   ]
  },
  {
   "cell_type": "markdown",
   "id": "e0c72863",
   "metadata": {},
   "source": [
    "## Part 3: Trained Answerability Classifier"
   ]
  },
  {
   "cell_type": "markdown",
   "id": "f0d368c2",
   "metadata": {},
   "source": [
    "## Part 4: Open QA"
   ]
  },
  {
   "cell_type": "markdown",
   "id": "a8417598",
   "metadata": {},
   "source": [
    "## Part 5: Sequence Labeler "
   ]
  },
  {
   "cell_type": "code",
   "execution_count": null,
   "id": "752f60af",
   "metadata": {},
   "outputs": [],
   "source": [
    "#"
   ]
  }
 ],
 "metadata": {
  "kernelspec": {
   "display_name": "Python 3",
   "language": "python",
   "name": "python3"
  },
  "language_info": {
   "codemirror_mode": {
    "name": "ipython",
    "version": 3
   },
   "file_extension": ".py",
   "mimetype": "text/x-python",
   "name": "python",
   "nbconvert_exporter": "python",
   "pygments_lexer": "ipython3",
   "version": "3.10.0"
  }
 },
 "nbformat": 4,
 "nbformat_minor": 5
}
