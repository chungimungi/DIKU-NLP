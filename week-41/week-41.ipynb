{
 "cells": [
  {
   "cell_type": "markdown",
   "id": "19c40900",
   "metadata": {},
   "source": [
    "Import Test Data"
   ]
  },
  {
   "cell_type": "code",
<<<<<<< Updated upstream
<<<<<<< Updated upstream
   "execution_count": 6,
=======
   "execution_count": 24,
>>>>>>> Stashed changes
=======
   "execution_count": 24,
>>>>>>> Stashed changes
   "id": "b2725f9c",
   "metadata": {},
   "outputs": [],
   "source": [
    "import pandas as pd\n",
    "import json\n",
    "\n",
    "with open(\"../week-41/question.json\", \"r\", encoding=\"utf-8\") as f:\n",
    "    test_data = json.load(f)\n",
    "\n",
    "df_test = pd.DataFrame(test_data[\"questions\"])"
   ]
  },
  {
   "cell_type": "code",
<<<<<<< Updated upstream
<<<<<<< Updated upstream
   "execution_count": 11,
   "id": "2dd86a75",
=======
   "execution_count": 6,
   "id": "835a2c46",
>>>>>>> Stashed changes
=======
   "execution_count": 6,
   "id": "835a2c46",
>>>>>>> Stashed changes
   "metadata": {},
   "outputs": [
    {
     "name": "stderr",
     "output_type": "stream",
     "text": [
      "[nltk_data] Downloading package punkt_tab to\n",
<<<<<<< Updated upstream
<<<<<<< Updated upstream
      "[nltk_data]     C:\\Users\\salva\\AppData\\Roaming\\nltk_data...\n",
      "[nltk_data]   Package punkt_tab is already up-to-date!\n",
      "[nltk_data] Downloading package wordnet to\n",
      "[nltk_data]     C:\\Users\\salva\\AppData\\Roaming\\nltk_data...\n",
      "[nltk_data]   Package wordnet is already up-to-date!\n",
      "[nltk_data] Downloading package omw-1.4 to\n",
      "[nltk_data]     C:\\Users\\salva\\AppData\\Roaming\\nltk_data...\n",
      "[nltk_data]   Package omw-1.4 is already up-to-date!\n",
      "[nltk_data] Downloading package averaged_perceptron_tagger_eng to\n",
      "[nltk_data]     C:\\Users\\salva\\AppData\\Roaming\\nltk_data...\n",
      "[nltk_data]   Package averaged_perceptron_tagger_eng is already up-to-\n",
      "[nltk_data]       date!\n"
=======
=======
>>>>>>> Stashed changes
      "[nltk_data]     /Users/sarene/nltk_data...\n",
      "[nltk_data]   Package punkt_tab is already up-to-date!\n",
      "[nltk_data] Downloading package wordnet to /Users/sarene/nltk_data...\n",
      "[nltk_data] Downloading package omw-1.4 to /Users/sarene/nltk_data...\n",
      "[nltk_data] Downloading package averaged_perceptron_tagger_eng to\n",
      "[nltk_data]     /Users/sarene/nltk_data...\n",
      "[nltk_data]   Unzipping taggers/averaged_perceptron_tagger_eng.zip.\n"
<<<<<<< Updated upstream
>>>>>>> Stashed changes
=======
>>>>>>> Stashed changes
     ]
    }
   ],
   "source": [
    "import nltk\n",
    "nltk.download('punkt_tab')      \n",
    "nltk.download('wordnet')    \n",
    "nltk.download('omw-1.4') \n",
    "nltk.download('averaged_perceptron_tagger_eng')\n",
    "from nltk.tokenize import word_tokenize\n",
    "from nltk.stem import WordNetLemmatizer"
   ]
  },
  {
   "cell_type": "markdown",
   "id": "413d9e6c",
   "metadata": {},
   "source": [
    "## Part 1: Rule-based Classifier "
   ]
  },
  {
   "cell_type": "code",
<<<<<<< Updated upstream
<<<<<<< Updated upstream
   "execution_count": 14,
=======
   "execution_count": 35,
>>>>>>> Stashed changes
=======
   "execution_count": 35,
>>>>>>> Stashed changes
   "id": "74b261ff",
   "metadata": {},
   "outputs": [
    {
     "name": "stderr",
     "output_type": "stream",
     "text": [
<<<<<<< Updated upstream
<<<<<<< Updated upstream
      "Translating pt: 100%|██████████| 2/2 [00:04<00:00,  2.11s/it]\n",
      "Translating pt: 100%|██████████| 2/2 [00:42<00:00, 21.23s/it]\n",
      "Predicting pt: 100%|██████████| 10/10 [00:00<00:00, 3316.44it/s]\n",
      "Translating ja: 100%|██████████| 2/2 [00:05<00:00,  2.62s/it]\n",
      "Translating ja: 100%|██████████| 2/2 [00:42<00:00, 21.35s/it]\n",
      "Predicting ja: 100%|██████████| 10/10 [00:00<00:00, 2501.22it/s]\n"
     ]
    },
    {
     "name": "stdout",
     "output_type": "stream",
     "text": [
      "{'olympics', 'what', 'origin'}\n",
      "{'they', 'sanctuary', 'different', 'significance', 'greece', '776', 'various', 'banned', 'held', 'year', 'were', 'representing', 'time', 'ce', 'olympia', 'a', 'olympic', 'event', 'occurred', 'greek', '4th', 'theodosius', 'i', 'every', 'late', 'competition', 'prestige', 'zeus', 'roman', 'century', 'chariot', 'ancient', 'emperor', 'athletic', 'such', 'bce', 'site', 'racing', 'dated', 'originated', 'wrestling', 'god', 'citystates', 'honor', 'participant', 'grew', 'by', 'game', 'traditionally', 'four', 'until', 'included', 'eventually', 'running', 'religious', 'over'}\n"
     ]
    },
    {
     "name": "stderr",
     "output_type": "stream",
     "text": [
      "Translating hi: 100%|██████████| 2/2 [00:04<00:00,  2.01s/it]\n",
      "Translating hi: 100%|██████████| 2/2 [00:39<00:00, 19.79s/it]\n",
      "Predicting hi: 100%|██████████| 10/10 [00:00<00:00, 3238.84it/s]"
=======
=======
>>>>>>> Stashed changes
      "Translating pt: 100%|██████████| 2/2 [00:01<00:00,  1.96it/s]\n",
      "Translating pt: 100%|██████████| 2/2 [00:09<00:00,  4.92s/it]\n",
      "Predicting pt: 100%|██████████| 10/10 [00:00<00:00, 2556.10it/s]\n",
      "Translating ja: 100%|██████████| 2/2 [00:00<00:00,  2.79it/s]\n",
      "Translating ja: 100%|██████████| 2/2 [00:05<00:00,  2.76s/it]\n",
      "Predicting ja: 100%|██████████| 10/10 [00:00<00:00, 2745.14it/s]\n",
      "Translating hi: 100%|██████████| 2/2 [00:00<00:00,  3.70it/s]\n",
      "Translating hi: 100%|██████████| 2/2 [00:05<00:00,  2.52s/it]\n",
      "Predicting hi: 100%|██████████| 10/10 [00:00<00:00, 5614.86it/s]"
<<<<<<< Updated upstream
>>>>>>> Stashed changes
=======
>>>>>>> Stashed changes
     ]
    },
    {
     "name": "stdout",
     "output_type": "stream",
     "text": [
      "Performance by language:\n",
<<<<<<< Updated upstream
<<<<<<< Updated upstream
      "pt {'accuracy': 0.8, 'precision': 0.8, 'recall': 1.0, 'f1': 0.8888888888888888}\n",
      "ja {'accuracy': 0.7, 'precision': 0.7777777777777778, 'recall': 0.875, 'f1': 0.8235294117647058}\n",
      "hi {'accuracy': 0.8, 'precision': 0.8, 'recall': 1.0, 'f1': 0.8888888888888888}\n"
=======
      "pt {'accuracy': 0.6, 'precision': 1.0, 'recall': 0.5, 'f1': 0.6666666666666666}\n",
      "ja {'accuracy': 0.3, 'precision': 1.0, 'recall': 0.125, 'f1': 0.2222222222222222}\n",
      "hi {'accuracy': 0.4, 'precision': 0.75, 'recall': 0.375, 'f1': 0.5}\n"
>>>>>>> Stashed changes
=======
      "pt {'accuracy': 0.6, 'precision': 1.0, 'recall': 0.5, 'f1': 0.6666666666666666}\n",
      "ja {'accuracy': 0.3, 'precision': 1.0, 'recall': 0.125, 'f1': 0.2222222222222222}\n",
      "hi {'accuracy': 0.4, 'precision': 0.75, 'recall': 0.375, 'f1': 0.5}\n"
>>>>>>> Stashed changes
     ]
    },
    {
     "name": "stderr",
     "output_type": "stream",
     "text": [
      "\n"
     ]
    }
   ],
   "source": [
    "from transformers import AutoTokenizer, AutoModelForSeq2SeqLM\n",
    "from sklearn.metrics import accuracy_score, precision_recall_fscore_support\n",
    "import re\n",
    "from tqdm import tqdm\n",
    "\n",
    "lemmatizer = WordNetLemmatizer()\n",
    "\n",
    "tokenizer = AutoTokenizer.from_pretrained(\"facebook/nllb-200-distilled-600M\")\n",
    "model = AutoModelForSeq2SeqLM.from_pretrained(\"facebook/nllb-200-distilled-600M\")\n",
    "\n",
<<<<<<< Updated upstream
    "device = \"cpu\"\n",
=======
    "device = \"mps\"\n",
    "#device = \"cpu\"\n",
<<<<<<< Updated upstream
>>>>>>> Stashed changes
=======
>>>>>>> Stashed changes
    "model.to(device)\n",
    "\n",
    "lang_codes = {\n",
    "    \"pt\": \"por_Latn\",\n",
    "    \"ja\": \"jpn_Jpan\",\n",
    "    \"hi\": \"hin_Deva\"\n",
    "}\n",
    "\n",
    "def translate_to_en(texts, src_lang):\n",
    "    tokenizer.src_lang = lang_codes[src_lang]\n",
    "    outputs = []\n",
    "    \n",
    "    for i in tqdm(range(0, len(texts), 8), desc=f\"Translating {src_lang}\"):\n",
    "        batch = texts[i:i+8]\n",
    "        inputs = tokenizer(batch, return_tensors=\"pt\", padding=True, truncation=True).to(device)\n",
    "        \n",
    "        bos_token_id = tokenizer.convert_tokens_to_ids(\"eng_Latn\")\n",
    "        \n",
    "        out = model.generate(**inputs, forced_bos_token_id=bos_token_id)\n",
    "        outputs.extend(tokenizer.batch_decode(out, skip_special_tokens=True))\n",
    "    \n",
    "    return outputs\n",
    "\n",
    "def preprocess(text):\n",
    "    text = text.lower()\n",
    "    text = re.sub(r\"[^a-z0-9\\s]\", \"\", text)\n",
    "    tokens = text.split()\n",
<<<<<<< Updated upstream
<<<<<<< Updated upstream
    "    stopwords = {\"the\",\"is\",\"a\",\"an\",\"in\",\"on\",\"at\",\"and\",\"of\",\"to\",\"for\",\"with\"}\n",
    "    return set(lemmatizer.lemmatize(t) for t in tokens if t not in stopwords)\n",
    "\n",
    "def predict_answerable(question, context):\n",
    "\n",
    "    non_stop_words_amt = len(preprocess(question) & preprocess(context)) \n",
    "    if non_stop_words_amt == 0:\n",
    "        print(preprocess(question))\n",
    "        print(preprocess(context))\n",
    "    return 1 if non_stop_words_amt > 0 else 0\n",
=======
    "    stopwords = {\"the\",\"a\",\"an\", \"that\",                                            # articles\n",
    "        \"is\",\"was\",\"did\",\"does\",\"has\",\"had\",\"were\",\"have\",\"are\",\"will\",\"be\",\"do\",\"been\",\"came\",  # verbs\n",
    "        \"in\",\"on\",\"at\",\"of\",\"to\",\"for\",\"with\", \"from\",\"into\",\"across\",\"before\",\"after\",\"about\",    # prepositions\n",
    "        \"and\",\"but\",\"so\",\"or\",\"if\",                                                 # conjunctions\n",
    "        \"it\",\"its\",\"their\",\"there\",                                                 # possessive\n",
    "        \"who\",\"what\",\"when\",\"where\",\"why\",\"how\",\"many\"}                            # question words\n",
    "    return set(lemmatizer.lemmatize(t) for t in tokens if t not in stopwords)\n",
    "    # return set(t for t in tokens if t not in stopwords)\n",
    "\n",
    "\n",
    "def predict_answerable(question, context):\n",
=======
    "    stopwords = {\"the\",\"a\",\"an\", \"that\",                                            # articles\n",
    "        \"is\",\"was\",\"did\",\"does\",\"has\",\"had\",\"were\",\"have\",\"are\",\"will\",\"be\",\"do\",\"been\",\"came\",  # verbs\n",
    "        \"in\",\"on\",\"at\",\"of\",\"to\",\"for\",\"with\", \"from\",\"into\",\"across\",\"before\",\"after\",\"about\",    # prepositions\n",
    "        \"and\",\"but\",\"so\",\"or\",\"if\",                                                 # conjunctions\n",
    "        \"it\",\"its\",\"their\",\"there\",                                                 # possessive\n",
    "        \"who\",\"what\",\"when\",\"where\",\"why\",\"how\",\"many\"}                            # question words\n",
    "    return set(lemmatizer.lemmatize(t) for t in tokens if t not in stopwords)\n",
    "    # return set(t for t in tokens if t not in stopwords)\n",
    "\n",
    "\n",
    "def predict_answerable(question, context):\n",
>>>>>>> Stashed changes
    "    a = preprocess(question)\n",
    "    b = preprocess(context)\n",
    "\n",
    "    return 1 if set(a) <= set(b) else 0\n",
<<<<<<< Updated upstream
>>>>>>> Stashed changes
=======
>>>>>>> Stashed changes
    "\n",
    "results = {}\n",
    "\n",
    "for lang in df_test[\"lang\"].unique():\n",
    "    subset = df_test[df_test[\"lang\"] == lang].copy()\n",
    "    \n",
    "    subset[\"question_en\"] = translate_to_en(subset[\"question\"].tolist(), lang)\n",
    "    subset[\"context_en\"] = translate_to_en(subset[\"context\"].tolist(), lang)\n",
    "    \n",
    "    subset[\"pred\"] = [predict_answerable(q, c) for q, c in tqdm(zip(subset[\"question_en\"], subset[\"context_en\"]), total=len(subset), desc=f\"Predicting {lang}\")]\n",
    "    \n",
    "    acc = accuracy_score(subset[\"answerable\"], subset[\"pred\"])\n",
    "    prec, rec, f1, _ = precision_recall_fscore_support(subset[\"answerable\"], subset[\"pred\"], average=\"binary\")\n",
    "    \n",
    "    results[lang] = {\"accuracy\": acc, \"precision\": prec, \"recall\": rec, \"f1\": f1}\n",
    "\n",
    "print(\"Performance by language:\")\n",
    "for lang, metrics in results.items():\n",
    "    print(lang, metrics)"
   ]
  },
  {
   "cell_type": "markdown",
   "id": "e0c72863",
   "metadata": {},
   "source": [
    "## Part 3: Trained Answerability Classifier"
   ]
  },
  {
   "cell_type": "markdown",
   "id": "f0d368c2",
   "metadata": {},
   "source": [
    "## Part 4: Open QA"
   ]
  },
  {
   "cell_type": "markdown",
   "id": "a8417598",
   "metadata": {},
   "source": [
    "## Part 5: Sequence Labeler "
   ]
  },
  {
   "cell_type": "code",
   "execution_count": null,
   "id": "752f60af",
   "metadata": {},
   "outputs": [],
   "source": [
    "#"
   ]
  }
 ],
 "metadata": {
  "kernelspec": {
   "display_name": ".env",
   "language": "python",
   "name": "python3"
  },
  "language_info": {
   "codemirror_mode": {
    "name": "ipython",
    "version": 3
   },
   "file_extension": ".py",
   "mimetype": "text/x-python",
   "name": "python",
   "nbconvert_exporter": "python",
   "pygments_lexer": "ipython3",
   "version": "3.10.0"
  }
 },
 "nbformat": 4,
 "nbformat_minor": 5
}
