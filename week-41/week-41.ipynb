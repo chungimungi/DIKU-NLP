{
 "cells": [
  {
   "cell_type": "markdown",
   "id": "19c40900",
   "metadata": {},
   "source": [
    "Import Test Data"
   ]
  },
  {
   "cell_type": "code",
   "execution_count": 9,
   "id": "b2725f9c",
   "metadata": {},
   "outputs": [],
   "source": [
    "import pandas as pd\n",
    "import json\n",
    "\n",
    "with open(\"../week-41/question.json\", \"r\", encoding=\"utf-8\") as f:\n",
    "    test_data = json.load(f)\n",
    "\n",
    "df_test = pd.DataFrame(test_data[\"questions\"])"
   ]
  },
  {
   "cell_type": "code",
   "execution_count": 10,
   "id": "2dd86a75",
   "metadata": {},
   "outputs": [
    {
     "name": "stderr",
     "output_type": "stream",
     "text": [
      "[nltk_data] Downloading package punkt_tab to\n",
      "[nltk_data]     /Users/sarene/nltk_data...\n",
      "[nltk_data]   Package punkt_tab is already up-to-date!\n",
      "[nltk_data] Downloading package wordnet to /Users/sarene/nltk_data...\n",
      "[nltk_data]   Package wordnet is already up-to-date!\n",
      "[nltk_data] Downloading package omw-1.4 to /Users/sarene/nltk_data...\n",
      "[nltk_data]   Package omw-1.4 is already up-to-date!\n",
      "[nltk_data] Downloading package averaged_perceptron_tagger_eng to\n",
      "[nltk_data]     /Users/sarene/nltk_data...\n",
      "[nltk_data]   Package averaged_perceptron_tagger_eng is already up-to-\n",
      "[nltk_data]       date!\n"
     ]
    }
   ],
   "source": [
    "# other imports\n",
    "import nltk\n",
    "nltk.download('punkt_tab')      \n",
    "nltk.download('wordnet')    \n",
    "nltk.download('omw-1.4') \n",
    "nltk.download('averaged_perceptron_tagger_eng')\n",
    "from nltk.tokenize import word_tokenize\n",
    "from nltk.stem import WordNetLemmatizer\n",
    "\n",
    "from transformers import AutoTokenizer, AutoModelForSeq2SeqLM, AutoModelForTokenClassification, DataCollatorForTokenClassification, Trainer, TrainingArguments, EarlyStoppingCallback\n",
    "from sklearn.metrics import accuracy_score, precision_recall_fscore_support\n",
    "from sklearn.utils.class_weight import compute_class_weight\n",
    "from collections import Counter\n",
    "import torch\n",
    "import re\n",
    "from tqdm import tqdm\n",
    "import numpy as np\n"
   ]
  },
  {
   "cell_type": "markdown",
   "id": "413d9e6c",
   "metadata": {},
   "source": [
    "## Part 1: Rule-based Classifier "
   ]
  },
  {
   "cell_type": "code",
   "execution_count": 11,
   "id": "74b261ff",
   "metadata": {},
   "outputs": [
    {
     "name": "stderr",
     "output_type": "stream",
     "text": [
      "Translating pt: 100%|██████████| 2/2 [00:01<00:00,  1.18it/s]\n",
      "Translating pt: 100%|██████████| 2/2 [00:15<00:00,  7.96s/it]\n",
      "Predicting pt: 100%|██████████| 10/10 [00:00<00:00, 8718.15it/s]\n",
      "Translating ja: 100%|██████████| 2/2 [00:02<00:00,  1.07s/it]\n",
      "Translating ja: 100%|██████████| 2/2 [00:15<00:00,  7.83s/it]\n",
      "Predicting ja: 100%|██████████| 10/10 [00:00<00:00, 8533.68it/s]\n",
      "/Library/Frameworks/Python.framework/Versions/3.10/lib/python3.10/site-packages/sklearn/metrics/_classification.py:1731: UndefinedMetricWarning: Precision is ill-defined and being set to 0.0 due to no predicted samples. Use `zero_division` parameter to control this behavior.\n",
      "  _warn_prf(average, modifier, f\"{metric.capitalize()} is\", result.shape[0])\n",
      "Translating hi: 100%|██████████| 2/2 [00:01<00:00,  1.19it/s]\n",
      "Translating hi: 100%|██████████| 2/2 [00:14<00:00,  7.09s/it]\n",
      "Predicting hi: 100%|██████████| 10/10 [00:00<00:00, 8943.08it/s]"
     ]
    },
    {
     "name": "stdout",
     "output_type": "stream",
     "text": [
      "Performance by language:\n",
      "pt {'accuracy': 0.6, 'precision': 1.0, 'recall': 0.5, 'f1': 0.6666666666666666}\n",
      "ja {'accuracy': 0.2, 'precision': 0.0, 'recall': 0.0, 'f1': 0.0}\n",
      "hi {'accuracy': 0.3, 'precision': 0.6666666666666666, 'recall': 0.25, 'f1': 0.36363636363636365}\n"
     ]
    },
    {
     "name": "stderr",
     "output_type": "stream",
     "text": [
      "\n"
     ]
    }
   ],
   "source": [
    "lemmatizer = WordNetLemmatizer()\n",
    "\n",
    "tokenizer = AutoTokenizer.from_pretrained(\"facebook/nllb-200-distilled-600M\")\n",
    "model = AutoModelForSeq2SeqLM.from_pretrained(\"facebook/nllb-200-distilled-600M\")\n",
    "\n",
    "device = \"cpu\"\n",
    "model.to(device)\n",
    "\n",
    "lang_codes = {\n",
    "    \"pt\": \"por_Latn\",\n",
    "    \"ja\": \"jpn_Jpan\",\n",
    "    \"hi\": \"hin_Deva\"\n",
    "}\n",
    "\n",
    "def translate_to_en(texts, src_lang):\n",
    "    tokenizer.src_lang = lang_codes[src_lang]\n",
    "    outputs = []\n",
    "    \n",
    "    for i in tqdm(range(0, len(texts), 8), desc=f\"Translating {src_lang}\"):\n",
    "        batch = texts[i:i+8]\n",
    "        inputs = tokenizer(batch, return_tensors=\"pt\", padding=True, truncation=True).to(device)\n",
    "        \n",
    "        bos_token_id = tokenizer.convert_tokens_to_ids(\"eng_Latn\")\n",
    "        \n",
    "        out = model.generate(**inputs, forced_bos_token_id=bos_token_id)\n",
    "        outputs.extend(tokenizer.batch_decode(out, skip_special_tokens=True))\n",
    "    \n",
    "    return outputs\n",
    "\n",
    "def preprocess(text):\n",
    "    text = text.lower()\n",
    "    text = re.sub(r\"[^a-z0-9\\s]\", \"\", text)\n",
    "    tokens = text.split()\n",
    "    stopwords = {\"the\",\"a\",\"an\",\"this\",\"that\",\"those\",      # articles\n",
    "    \"is\",\"was\",\"has\",\"have\",\"had\",\"be\",                     # verbs\n",
    "    \"been\",\"do\",\"does\",\"did\",\"are\",\"were\"                   \n",
    "    \"in\",\"on\",\"at\",\"of\",\"to\",\"for\",\"with\",                  # prepositions\n",
    "    \"into\",\"from\",\"above\",\"below\",\"before\",\"after\",\n",
    "    \"and\",\"or\",\"but\",                                       # conjunctions\n",
    "    \"there\",\"their\",\"its\",\"it\",                             # possessive/pronouns\n",
    "    \"who\",\"what\",\"when\",\"where\",\"why\",\"how\",\"which\"         # question words\n",
    "    }\n",
    "    return set(lemmatizer.lemmatize(t) for t in tokens if t not in stopwords)\n",
    "\n",
    "def predict_answerable(question, context):\n",
    "    a = preprocess(question)\n",
    "    b = preprocess(context)\n",
    "    \n",
    "    return 1 if set(a) <= set(b) else 0\n",
    "\n",
    "results = {}\n",
    "\n",
    "for lang in df_test[\"lang\"].unique():\n",
    "    subset = df_test[df_test[\"lang\"] == lang].copy()\n",
    "    \n",
    "    subset[\"question_en\"] = translate_to_en(subset[\"question\"].tolist(), lang)\n",
    "    subset[\"context_en\"] = translate_to_en(subset[\"context\"].tolist(), lang)\n",
    "    \n",
    "    subset[\"pred\"] = [predict_answerable(q, c) for q, c in tqdm(zip(subset[\"question_en\"], subset[\"context_en\"]), total=len(subset), desc=f\"Predicting {lang}\")]\n",
    "    \n",
    "    acc = accuracy_score(subset[\"answerable\"], subset[\"pred\"])\n",
    "    prec, rec, f1, _ = precision_recall_fscore_support(subset[\"answerable\"], subset[\"pred\"], average=\"binary\")\n",
    "    \n",
    "    results[lang] = {\"accuracy\": acc, \"precision\": prec, \"recall\": rec, \"f1\": f1}\n",
    "\n",
    "print(\"Performance by language:\")\n",
    "for lang, metrics in results.items():\n",
    "    print(lang, metrics)"
   ]
  },
  {
   "cell_type": "markdown",
   "id": "e0c72863",
   "metadata": {},
   "source": [
    "## Part 3: Trained Answerability Classifier"
   ]
  },
  {
   "cell_type": "code",
   "execution_count": null,
   "id": "276265e0",
   "metadata": {},
   "outputs": [],
   "source": []
  },
  {
   "cell_type": "markdown",
   "id": "f0d368c2",
   "metadata": {},
   "source": [
    "## Part 4: Open QA"
   ]
  },
  {
   "cell_type": "code",
   "execution_count": null,
   "id": "e997704c",
   "metadata": {},
   "outputs": [],
   "source": []
  },
  {
   "cell_type": "markdown",
   "id": "a8417598",
   "metadata": {},
   "source": [
    "## Part 5: Sequence Labeler "
   ]
  },
  {
   "cell_type": "code",
   "execution_count": 12,
   "id": "752f60af",
   "metadata": {},
   "outputs": [],
   "source": [
    "#"
   ]
  }
 ],
 "metadata": {
  "kernelspec": {
   "display_name": ".env",
   "language": "python",
   "name": "python3"
  },
  "language_info": {
   "codemirror_mode": {
    "name": "ipython",
    "version": 3
   },
   "file_extension": ".py",
   "mimetype": "text/x-python",
   "name": "python",
   "nbconvert_exporter": "python",
   "pygments_lexer": "ipython3",
   "version": "3.10.0"
  }
 },
 "nbformat": 4,
 "nbformat_minor": 5
}
