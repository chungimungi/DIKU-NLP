{
 "cells": [
  {
   "cell_type": "markdown",
   "id": "1ed70134",
   "metadata": {},
   "source": [
    "# Kneser-Ney Smoothed Trigram\n",
    "### Fetching and Organizing Data"
   ]
  },
  {
   "cell_type": "code",
   "execution_count": 28,
   "id": "98632908",
   "metadata": {},
   "outputs": [],
   "source": [
    "from datasets import load_dataset\n",
    "from tqdm import tqdm\n",
    "import regex as re\n",
    "import math\n",
    "\n",
    "dataset = load_dataset(\"coastalcph/tydi_xor_rc\")\n",
    "\n",
    "languages = ['ar', 'ko', 'te']\n",
    "train_dataset = dataset[\"train\"].filter(lambda example: example['lang'] in languages)\n",
    "val_dataset = dataset[\"validation\"].filter(lambda example: example['lang'] in languages)"
   ]
  },
  {
   "cell_type": "code",
   "execution_count": 29,
   "id": "dbb06084",
   "metadata": {},
   "outputs": [],
   "source": [
    "ko_questions = list(train_dataset.filter(lambda x: x[\"lang\"] == \"ko\")[\"question\"])\n",
    "ar_questions =  list(train_dataset.filter(lambda x: x[\"lang\"] == \"ar\")[\"question\"])\n",
    "te_questions = list(train_dataset.filter(lambda x: x[\"lang\"] == \"te\")[\"question\"])\n",
    "en_context =  list(train_dataset[\"context\"])\n",
    "\n",
    "ko_questions_val = list(val_dataset.filter(lambda x: x[\"lang\"] == \"ko\")[\"question\"])\n",
    "ar_questions_val =  list(val_dataset.filter(lambda x: x[\"lang\"] == \"ar\")[\"question\"])\n",
    "te_questions_val = list(val_dataset.filter(lambda x: x[\"lang\"] == \"te\")[\"question\"])\n",
    "en_context_val =  list(val_dataset[\"context\"])\n",
    "\n",
    "def UnfoldSentences(l):\n",
    "    return [re.findall(r'\\w+', sentence) for sentence in l]\n",
    "    \n",
    "\n",
    "ko_questions = UnfoldSentences(ko_questions)\n",
    "ar_questions = UnfoldSentences(ar_questions)\n",
    "te_questions = UnfoldSentences(te_questions)\n",
    "en_context= UnfoldSentences(en_context)\n",
    "\n",
    "ko_questions_val = UnfoldSentences(ko_questions_val)\n",
    "ar_questions_val = UnfoldSentences(ar_questions_val)\n",
    "te_questions_val = UnfoldSentences(te_questions_val)\n",
    "en_context_val = UnfoldSentences(en_context_val)\n"
   ]
  },
  {
   "cell_type": "markdown",
   "id": "fc38a52e",
   "metadata": {},
   "source": [
    "### Model Training and Validation"
   ]
  },
  {
   "cell_type": "code",
   "execution_count": null,
   "id": "0363c31b",
   "metadata": {},
   "outputs": [],
   "source": [
    "\n",
    "  \n",
    "class KneserNey:\n",
    "    trigram = {}\n",
    "    bigram = {}\n",
    "    unigram = {}\n",
    "    V = set()\n",
    "\n",
    "    def __init__(self, name):\n",
    "        self.model = {}\n",
    "        self.name = name\n",
    "\n",
    "    def Train(self, texts):\n",
    "        self.V = set()\n",
    "        #Unigram\n",
    "        for sentence in tqdm(texts, desc=\"Training Unigram\"):\n",
    "            for w in range(len(sentence)):\n",
    "                self.V.add(w)\n",
    "                if sentence[w] in self.unigram.keys():\n",
    "                    self.unigram[sentence[w]] += 1\n",
    "                else:\n",
    "                    self.unigram[sentence[w]] = 1\n",
    "\n",
    "        #Bigram\n",
    "        for sentence in tqdm(texts, desc=\"Training Bigram\"):\n",
    "            for w in range(len(sentence) - 1):\n",
    "                contextKey = (sentence[w])\n",
    "                followUpKey = sentence[w+1]\n",
    "\n",
    "                if contextKey in self.bigram.keys():\n",
    "                    if followUpKey in self.bigram[contextKey].keys():\n",
    "                        self.bigram[contextKey][followUpKey] += 1\n",
    "                    else:\n",
    "                        self.bigram[contextKey][followUpKey] = 1\n",
    "                else:\n",
    "                    self.bigram[sentence[w]] = {followUpKey : 1}\n",
    "        \n",
    "        #Trigram\n",
    "        for sentence in tqdm(texts, desc=\"Training Trigram\"):\n",
    "            for w in range(len(sentence) - 2):\n",
    "                contextKey = (sentence[w], sentence[w+1])\n",
    "                followUpKey = sentence[w+2]\n",
    "\n",
    "                if contextKey in self.trigram.keys():\n",
    "                    if followUpKey in self.bigram[contextKey].keys():\n",
    "                        self.trigram[contextKey][followUpKey] += 1\n",
    "                    else:\n",
    "                        self.trigram[contextKey][followUpKey] = 1\n",
    "                else:\n",
    "                    self.trigram[sentence[w]] = {followUpKey : 1}\n",
    "\n",
    "    def P(self, context, followup, type=\"Trigram\"):\n",
    "        #Discount\n",
    "        D = 0.75\n",
    "\n",
    "        if type==\"Trigram\":\n",
    "            #Trigram with Discount\n",
    "            if context in self.trigram.keys() and followup in self.trigram[context].keys():\n",
    "                lmb = D * len(self.trigram[context]) /  sum(self.trigram[context].values())\n",
    "                return max(0 , self.trigram[context][followup] - D) / sum(self.trigram[context].values()) + lmb * self.P((context[1]), followup, \"Bigram\")\n",
    "            \n",
    "            #Bigram BackOff\n",
    "            else:\n",
    "                return self.P((context[1]), followup, \"Bigram\")\n",
    "        elif type==\"Bigram\":\n",
    "            #Bigram with Discount\n",
    "            if context in self.bigram.keys() and followup in self.bigram[context].keys():\n",
    "                lmb = D * len(self.bigram[context]) /  sum(self.bigram[context].values())\n",
    "\n",
    "                return self.bigram[context][followup] / sum(self.bigram[context].values()) + lmb * self.P(followup, followup, \"Unigram\")\n",
    "            #Unigram BackOff\n",
    "            else:\n",
    "                return self.P(followup, followup, \"Unigram\")\n",
    "            \n",
    "        elif type==\"Unigram\":\n",
    "            #Unigram\n",
    "            if followup in self.unigram.keys():\n",
    "                return self.unigram[followup] / sum(self.unigram.values())\n",
    "            #Out of Vocabulary\n",
    "            else:\n",
    "                return 1/len(self.V)\n",
    "            \n",
    "                \n",
    "    def Perplexity(self, wordset):\n",
    "        Sum = 0\n",
    "        for i in range(len(wordset) - 2):\n",
    "            inside = self.P((wordset[i], wordset[i+1]), wordset[i+2])\n",
    "            \n",
    "            Sum += math.log(inside) if inside > 0 else float(\"-inf\")\n",
    "\n",
    "        return math.exp((-1/len(wordset)) * Sum)\n",
    "\n",
    "    def AvgPerplexity(self, sentences):\n",
    "        i = 0\n",
    "        p = 0\n",
    "        for sentence in tqdm(sentences):\n",
    "            p += self.Perplexity(sentence)\n",
    "            i+=1\n",
    "        return p/i\n",
    "    \n",
    "\n",
    "    "
   ]
  },
  {
   "cell_type": "code",
   "execution_count": 30,
   "id": "2069d548",
   "metadata": {},
   "outputs": [
    {
     "name": "stderr",
     "output_type": "stream",
     "text": [
      "Training Unigram: 100%|██████████| 2422/2422 [00:00<00:00, 397177.32it/s]\n",
      "Training Bigram: 100%|██████████| 2422/2422 [00:00<00:00, 194226.03it/s]\n",
      "Training Trigram: 100%|██████████| 2422/2422 [00:00<00:00, 344196.12it/s]\n",
      "Training Unigram: 100%|██████████| 2558/2558 [00:00<00:00, 271930.80it/s]\n",
      "Training Bigram: 100%|██████████| 2558/2558 [00:00<00:00, 319012.54it/s]\n",
      "Training Trigram: 100%|██████████| 2558/2558 [00:00<00:00, 289817.12it/s]\n",
      "Training Unigram: 100%|██████████| 1355/1355 [00:00<00:00, 266283.18it/s]\n",
      "Training Bigram: 100%|██████████| 1355/1355 [00:00<00:00, 331618.74it/s]\n",
      "Training Trigram: 100%|██████████| 1355/1355 [00:00<00:00, 330231.37it/s]\n",
      "Training Unigram: 100%|██████████| 6335/6335 [00:00<00:00, 29742.34it/s]\n",
      "Training Bigram: 100%|██████████| 6335/6335 [00:00<00:00, 16950.50it/s]\n",
      "Training Trigram: 100%|██████████| 6335/6335 [00:00<00:00, 17530.46it/s]\n"
     ]
    }
   ],
   "source": [
    "ko_kneser = KneserNey(\"Korean Kneser\")\n",
    "ar_kneser = KneserNey(\"Arabic Kneser\")\n",
    "te_kneser = KneserNey(\"Telugu Kneser\")\n",
    "en_kneser = KneserNey(\"English Kneser\")\n",
    "\n",
    "ko_kneser.Train(ko_questions)\n",
    "ar_kneser.Train(ar_questions)\n",
    "te_kneser.Train(te_questions)\n",
    "en_kneser.Train(en_context)     \n"
   ]
  },
  {
   "cell_type": "code",
   "execution_count": 31,
   "id": "997a4fb7",
   "metadata": {},
   "outputs": [
    {
     "name": "stdout",
     "output_type": "stream",
     "text": [
      "------------------------------\n",
      "Korean Kneser\n"
     ]
    },
    {
     "name": "stderr",
     "output_type": "stream",
     "text": [
      "100%|██████████| 356/356 [00:00<00:00, 993.08it/s] \n"
     ]
    },
    {
     "name": "stdout",
     "output_type": "stream",
     "text": [
      "Validation - 66.41\n",
      "------------------------------\n",
      "Arabic Kneser\n"
     ]
    },
    {
     "name": "stderr",
     "output_type": "stream",
     "text": [
      "100%|██████████| 415/415 [00:00<00:00, 751.49it/s]\n"
     ]
    },
    {
     "name": "stdout",
     "output_type": "stream",
     "text": [
      "Validation - 319.76\n",
      "------------------------------\n",
      "Telugu Kneser\n"
     ]
    },
    {
     "name": "stderr",
     "output_type": "stream",
     "text": [
      "100%|██████████| 384/384 [00:00<00:00, 639.20it/s]\n"
     ]
    },
    {
     "name": "stdout",
     "output_type": "stream",
     "text": [
      "Validation - 76.48\n",
      "------------------------------\n",
      "English Kneser\n"
     ]
    },
    {
     "name": "stderr",
     "output_type": "stream",
     "text": [
      "100%|██████████| 1155/1155 [00:54<00:00, 21.24it/s]"
     ]
    },
    {
     "name": "stdout",
     "output_type": "stream",
     "text": [
      "Validation - 366.84\n",
      "-------------------------------------------------------------------\n"
     ]
    },
    {
     "name": "stderr",
     "output_type": "stream",
     "text": [
      "\n"
     ]
    }
   ],
   "source": [
    "def PrintPerplexity(model, val):\n",
    "    print(\"-\"*30)\n",
    "    print(model.name)\n",
    "    print(f\"Validation - {model.AvgPerplexity(val):0.02f}\")\n",
    "\n",
    "PrintPerplexity(ko_kneser, ko_questions_val)\n",
    "PrintPerplexity(ar_kneser, ar_questions_val)\n",
    "PrintPerplexity(te_kneser, te_questions_val)\n",
    "PrintPerplexity(en_kneser, en_context_val)\n",
    "print(\"-------------------------------------------------------------------\")\n"
   ]
  }
 ],
 "metadata": {
  "kernelspec": {
   "display_name": ".env",
   "language": "python",
   "name": "python3"
  },
  "language_info": {
   "codemirror_mode": {
    "name": "ipython",
    "version": 3
   },
   "file_extension": ".py",
   "mimetype": "text/x-python",
   "name": "python",
   "nbconvert_exporter": "python",
   "pygments_lexer": "ipython3",
   "version": "3.10.0"
  }
 },
 "nbformat": 4,
 "nbformat_minor": 5
}
