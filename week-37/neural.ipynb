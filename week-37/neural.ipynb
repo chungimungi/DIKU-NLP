{
 "cells": [
  {
   "cell_type": "markdown",
   "id": "aec11e88",
   "metadata": {},
   "source": [
    "## Fine-Tuning BERT"
   ]
  },
  {
   "cell_type": "code",
   "execution_count": 1,
   "id": "3917ff0a",
   "metadata": {},
   "outputs": [
    {
     "name": "stdout",
     "output_type": "stream",
     "text": [
      "Sample from train dataset:\n",
      "Keys: dict_keys(['question', 'context', 'lang', 'answerable', 'answer_start', 'answer', 'answer_inlang'])\n",
      "Answer structure: France\n",
      "Answer type: <class 'str'>\n"
     ]
    },
    {
     "name": "stderr",
     "output_type": "stream",
     "text": [
      "Some weights of BertForQuestionAnswering were not initialized from the model checkpoint at google-bert/bert-base-uncased and are newly initialized: ['qa_outputs.bias', 'qa_outputs.weight']\n",
      "You should probably TRAIN this model on a down-stream task to be able to use it for predictions and inference.\n",
      "C:\\Users\\aarus\\AppData\\Local\\Temp\\ipykernel_3472\\104377962.py:128: FutureWarning: `tokenizer` is deprecated and will be removed in version 5.0.0 for `Trainer.__init__`. Use `processing_class` instead.\n",
      "  trainer = Trainer(\n",
      "wandb: Currently logged in as: aarushsinha60 (chungimungi) to https://api.wandb.ai. Use `wandb login --relogin` to force relogin\n",
      "wandb: Using wandb-core as the SDK backend.  Please refer to https://wandb.me/wandb-core for more information.\n"
     ]
    },
    {
     "data": {
      "text/html": [
       "Tracking run with wandb version 0.19.5"
      ],
      "text/plain": [
       "<IPython.core.display.HTML object>"
      ]
     },
     "metadata": {},
     "output_type": "display_data"
    },
    {
     "data": {
      "text/html": [
       "Run data is saved locally in <code>c:\\Users\\aarus\\Desktop\\Github\\DIKU-NLP\\week-37\\wandb\\run-20250915_083225-veydli1h</code>"
      ],
      "text/plain": [
       "<IPython.core.display.HTML object>"
      ]
     },
     "metadata": {},
     "output_type": "display_data"
    },
    {
     "data": {
      "text/html": [
       "Syncing run <strong><a href='https://wandb.ai/chungimungi/huggingface/runs/veydli1h' target=\"_blank\">comfy-elevator-15</a></strong> to <a href='https://wandb.ai/chungimungi/huggingface' target=\"_blank\">Weights & Biases</a> (<a href='https://wandb.me/developer-guide' target=\"_blank\">docs</a>)<br>"
      ],
      "text/plain": [
       "<IPython.core.display.HTML object>"
      ]
     },
     "metadata": {},
     "output_type": "display_data"
    },
    {
     "data": {
      "text/html": [
       " View project at <a href='https://wandb.ai/chungimungi/huggingface' target=\"_blank\">https://wandb.ai/chungimungi/huggingface</a>"
      ],
      "text/plain": [
       "<IPython.core.display.HTML object>"
      ]
     },
     "metadata": {},
     "output_type": "display_data"
    },
    {
     "data": {
      "text/html": [
       " View run at <a href='https://wandb.ai/chungimungi/huggingface/runs/veydli1h' target=\"_blank\">https://wandb.ai/chungimungi/huggingface/runs/veydli1h</a>"
      ],
      "text/plain": [
       "<IPython.core.display.HTML object>"
      ]
     },
     "metadata": {},
     "output_type": "display_data"
    },
    {
     "data": {
      "text/html": [
       "\n",
       "    <div>\n",
       "      \n",
       "      <progress value='407' max='407' style='width:300px; height:20px; vertical-align: middle;'></progress>\n",
       "      [407/407 08:13, Epoch 1/1]\n",
       "    </div>\n",
       "    <table border=\"1\" class=\"dataframe\">\n",
       "  <thead>\n",
       " <tr style=\"text-align: left;\">\n",
       "      <th>Step</th>\n",
       "      <th>Training Loss</th>\n",
       "      <th>Validation Loss</th>\n",
       "    </tr>\n",
       "  </thead>\n",
       "  <tbody>\n",
       "    <tr>\n",
       "      <td>25</td>\n",
       "      <td>4.514600</td>\n",
       "      <td>3.173701</td>\n",
       "    </tr>\n",
       "    <tr>\n",
       "      <td>50</td>\n",
       "      <td>2.118100</td>\n",
       "      <td>1.284127</td>\n",
       "    </tr>\n",
       "    <tr>\n",
       "      <td>75</td>\n",
       "      <td>1.424600</td>\n",
       "      <td>1.214832</td>\n",
       "    </tr>\n",
       "    <tr>\n",
       "      <td>100</td>\n",
       "      <td>1.282600</td>\n",
       "      <td>1.151535</td>\n",
       "    </tr>\n",
       "    <tr>\n",
       "      <td>125</td>\n",
       "      <td>1.219500</td>\n",
       "      <td>1.121558</td>\n",
       "    </tr>\n",
       "    <tr>\n",
       "      <td>150</td>\n",
       "      <td>1.183600</td>\n",
       "      <td>1.111004</td>\n",
       "    </tr>\n",
       "    <tr>\n",
       "      <td>175</td>\n",
       "      <td>1.153900</td>\n",
       "      <td>1.115361</td>\n",
       "    </tr>\n",
       "    <tr>\n",
       "      <td>200</td>\n",
       "      <td>1.213400</td>\n",
       "      <td>1.081321</td>\n",
       "    </tr>\n",
       "    <tr>\n",
       "      <td>225</td>\n",
       "      <td>1.074000</td>\n",
       "      <td>1.087571</td>\n",
       "    </tr>\n",
       "    <tr>\n",
       "      <td>250</td>\n",
       "      <td>1.141700</td>\n",
       "      <td>1.079575</td>\n",
       "    </tr>\n",
       "    <tr>\n",
       "      <td>275</td>\n",
       "      <td>1.159200</td>\n",
       "      <td>1.072334</td>\n",
       "    </tr>\n",
       "    <tr>\n",
       "      <td>300</td>\n",
       "      <td>1.118300</td>\n",
       "      <td>1.064696</td>\n",
       "    </tr>\n",
       "    <tr>\n",
       "      <td>325</td>\n",
       "      <td>1.138900</td>\n",
       "      <td>1.060868</td>\n",
       "    </tr>\n",
       "    <tr>\n",
       "      <td>350</td>\n",
       "      <td>1.072000</td>\n",
       "      <td>1.055520</td>\n",
       "    </tr>\n",
       "    <tr>\n",
       "      <td>375</td>\n",
       "      <td>1.108500</td>\n",
       "      <td>1.059731</td>\n",
       "    </tr>\n",
       "    <tr>\n",
       "      <td>400</td>\n",
       "      <td>1.132800</td>\n",
       "      <td>1.058352</td>\n",
       "    </tr>\n",
       "  </tbody>\n",
       "</table><p>"
      ],
      "text/plain": [
       "<IPython.core.display.HTML object>"
      ]
     },
     "metadata": {},
     "output_type": "display_data"
    },
    {
     "name": "stdout",
     "output_type": "stream",
     "text": [
      "Overall Evaluation\n"
     ]
    },
    {
     "data": {
      "text/html": [
       "\n",
       "    <div>\n",
       "      \n",
       "      <progress value='75' max='75' style='width:300px; height:20px; vertical-align: middle;'></progress>\n",
       "      [75/75 00:14]\n",
       "    </div>\n",
       "    "
      ],
      "text/plain": [
       "<IPython.core.display.HTML object>"
      ]
     },
     "metadata": {},
     "output_type": "display_data"
    },
    {
     "name": "stdout",
     "output_type": "stream",
     "text": [
      "Overall Perplexity: 2.88\n",
      "Overall Loss: 1.0582\n",
      "\n",
      "Language-specific Evaluations\n",
      "\n",
      "Evaluating AR\n",
      "Number of ar validation examples: 415\n"
     ]
    },
    {
     "name": "stderr",
     "output_type": "stream",
     "text": [
      "C:\\Users\\aarus\\AppData\\Local\\Temp\\ipykernel_3472\\104377962.py:162: FutureWarning: `tokenizer` is deprecated and will be removed in version 5.0.0 for `Trainer.__init__`. Use `processing_class` instead.\n",
      "  lang_trainer = Trainer(\n"
     ]
    },
    {
     "data": {
      "text/html": [
       "\n",
       "    <div>\n",
       "      \n",
       "      <progress value='28' max='28' style='width:300px; height:20px; vertical-align: middle;'></progress>\n",
       "      [28/28 00:05]\n",
       "    </div>\n",
       "    "
      ],
      "text/plain": [
       "<IPython.core.display.HTML object>"
      ]
     },
     "metadata": {},
     "output_type": "display_data"
    },
    {
     "name": "stdout",
     "output_type": "stream",
     "text": [
      "AR Perplexity: 2.94\n",
      "AR Loss: 1.0793\n",
      "AR eval_model_preparation_time: 0.0020\n",
      "\n",
      "Evaluating KO\n",
      "Number of ko validation examples: 356\n"
     ]
    },
    {
     "data": {
      "application/vnd.jupyter.widget-view+json": {
       "model_id": "4a94ff9cd6c44e4eaea00f4f16aba0c0",
       "version_major": 2,
       "version_minor": 0
      },
      "text/plain": [
       "Map:   0%|          | 0/356 [00:00<?, ? examples/s]"
      ]
     },
     "metadata": {},
     "output_type": "display_data"
    },
    {
     "data": {
      "text/html": [
       "\n",
       "    <div>\n",
       "      \n",
       "      <progress value='23' max='23' style='width:300px; height:20px; vertical-align: middle;'></progress>\n",
       "      [23/23 00:04]\n",
       "    </div>\n",
       "    "
      ],
      "text/plain": [
       "<IPython.core.display.HTML object>"
      ]
     },
     "metadata": {},
     "output_type": "display_data"
    },
    {
     "name": "stdout",
     "output_type": "stream",
     "text": [
      "KO Perplexity: 2.86\n",
      "KO Loss: 1.0503\n",
      "KO eval_model_preparation_time: 0.0020\n",
      "\n",
      "Evaluating TE\n",
      "Number of te validation examples: 384\n"
     ]
    },
    {
     "data": {
      "text/html": [
       "\n",
       "    <div>\n",
       "      \n",
       "      <progress value='25' max='25' style='width:300px; height:20px; vertical-align: middle;'></progress>\n",
       "      [25/25 00:04]\n",
       "    </div>\n",
       "    "
      ],
      "text/plain": [
       "<IPython.core.display.HTML object>"
      ]
     },
     "metadata": {},
     "output_type": "display_data"
    },
    {
     "name": "stdout",
     "output_type": "stream",
     "text": [
      "TE Perplexity: 2.83\n",
      "TE Loss: 1.0420\n",
      "TE eval_model_preparation_time: 0.0030\n",
      "Evaluation completed for all languages\n"
     ]
    }
   ],
   "source": [
    "import pandas as pd\n",
    "from datasets import load_dataset, Dataset\n",
    "from transformers import AutoTokenizer, AutoModelForQuestionAnswering, TrainingArguments, Trainer\n",
    "import torch\n",
    "import math\n",
    "\n",
    "dataset = load_dataset(\"coastalcph/tydi_xor_rc\")\n",
    "\n",
    "languages = ['ar', 'ko', 'te']\n",
    "train_dataset = dataset[\"train\"].filter(lambda example: example['lang'] in languages)\n",
    "val_dataset = dataset[\"validation\"].filter(lambda example: example['lang'] in languages)\n",
    "\n",
    "print(\"Sample from train dataset:\")\n",
    "sample = train_dataset[0]\n",
    "print(f\"Keys: {sample.keys()}\")\n",
    "print(f\"Answer structure: {sample['answer']}\")\n",
    "print(f\"Answer type: {type(sample['answer'])}\")\n",
    "\n",
    "model_checkpoint = \"google-bert/bert-base-uncased\"\n",
    "tokenizer = AutoTokenizer.from_pretrained(model_checkpoint)\n",
    "\n",
    "max_length = 384\n",
    "doc_stride = 128\n",
    "\n",
    "def preprocess_function(examples):\n",
    "    questions = [q.strip() for q in examples[\"question\"]]\n",
    "    contexts = [c.strip() for c in examples[\"context\"]]\n",
    "    \n",
    "    tokenized_examples = tokenizer(\n",
    "        questions,\n",
    "        contexts,\n",
    "        truncation=\"only_second\",\n",
    "        max_length=max_length,\n",
    "        stride=doc_stride,\n",
    "        return_overflowing_tokens=True,\n",
    "        return_offsets_mapping=True,\n",
    "        padding=\"max_length\",\n",
    "    )\n",
    "\n",
    "    offset_mapping = tokenized_examples.pop(\"offset_mapping\")\n",
    "    sample_mapping = tokenized_examples.pop(\"overflow_to_sample_mapping\")\n",
    "    \n",
    "    tokenized_examples[\"start_positions\"] = []\n",
    "    tokenized_examples[\"end_positions\"] = []\n",
    "\n",
    "    for i, offsets in enumerate(offset_mapping):\n",
    "        input_ids = tokenized_examples[\"input_ids\"][i]\n",
    "        cls_index = input_ids.index(tokenizer.cls_token_id)\n",
    "\n",
    "        sequence_ids = tokenized_examples.sequence_ids(i)\n",
    "\n",
    "        sample_index = sample_mapping[i]\n",
    "        \n",
    "        answer_data = examples[\"answer\"][sample_index]\n",
    "        \n",
    "        if isinstance(answer_data, dict):\n",
    "            if \"text\" in answer_data:\n",
    "                answer_text = answer_data[\"text\"]\n",
    "                answer_starts = answer_data.get(\"answer_start\", [])\n",
    "            else:\n",
    "                answer_text = answer_data.get(\"answer_text\", answer_data.get(\"answers\", \"\"))\n",
    "                answer_starts = answer_data.get(\"answer_start\", answer_data.get(\"answer_starts\", []))\n",
    "        elif isinstance(answer_data, str):\n",
    "            answer_text = answer_data\n",
    "            answer_starts = []\n",
    "        else:\n",
    "            answer_text = \"\"\n",
    "            answer_starts = []\n",
    "        \n",
    "        if isinstance(answer_text, str):\n",
    "            answer_texts = [answer_text] if answer_text else []\n",
    "        else:\n",
    "            answer_texts = answer_text if answer_text else []\n",
    "        \n",
    "        if not isinstance(answer_starts, list):\n",
    "            answer_starts = [answer_starts] if answer_starts else []\n",
    "        \n",
    "        if not answer_texts or not answer_texts[0].strip():\n",
    "            tokenized_examples[\"start_positions\"].append(cls_index)\n",
    "            tokenized_examples[\"end_positions\"].append(cls_index)\n",
    "        else:\n",
    "            answer_text = answer_texts[0]\n",
    "            start_char = answer_starts[0] if answer_starts else 0\n",
    "            end_char = start_char + len(answer_text)\n",
    "\n",
    "            token_start_index = 0\n",
    "            while token_start_index < len(sequence_ids) and sequence_ids[token_start_index] != 1:\n",
    "                token_start_index += 1\n",
    "\n",
    "            token_end_index = len(input_ids) - 1\n",
    "            while token_end_index >= 0 and sequence_ids[token_end_index] != 1:\n",
    "                token_end_index -= 1\n",
    "\n",
    "            if (token_start_index >= len(offsets) or token_end_index >= len(offsets) or \n",
    "                token_start_index > token_end_index or\n",
    "                not (offsets[token_start_index][0] <= start_char and offsets[token_end_index][1] >= end_char)):\n",
    "                tokenized_examples[\"start_positions\"].append(cls_index)\n",
    "                tokenized_examples[\"end_positions\"].append(cls_index)\n",
    "            else:\n",
    "                while token_start_index < len(offsets) and offsets[token_start_index][0] <= start_char:\n",
    "                    token_start_index += 1\n",
    "                tokenized_examples[\"start_positions\"].append(token_start_index - 1)\n",
    "                \n",
    "                while token_end_index >= 0 and offsets[token_end_index][1] >= end_char:\n",
    "                    token_end_index -= 1\n",
    "                tokenized_examples[\"end_positions\"].append(token_end_index + 1)\n",
    "\n",
    "    return tokenized_examples\n",
    "\n",
    "tokenized_train_dataset = train_dataset.map(preprocess_function, batched=True, remove_columns=train_dataset.column_names)\n",
    "tokenized_val_dataset = val_dataset.map(preprocess_function, batched=True, remove_columns=val_dataset.column_names)\n",
    "\n",
    "model = AutoModelForQuestionAnswering.from_pretrained(model_checkpoint)\n",
    "\n",
    "training_args = TrainingArguments(\n",
    "    output_dir=\"./results\",\n",
    "    eval_strategy=\"steps\",\n",
    "    eval_steps=25,\n",
    "    logging_strategy=\"steps\",\n",
    "    logging_steps=25,\n",
    "    learning_rate=2e-5,\n",
    "    per_device_train_batch_size=16,\n",
    "    per_device_eval_batch_size=16,\n",
    "    num_train_epochs=1,\n",
    "    weight_decay=0.01,\n",
    ")\n",
    "\n",
    "trainer = Trainer(\n",
    "    model=model,\n",
    "    args=training_args,\n",
    "    train_dataset=tokenized_train_dataset,\n",
    "    eval_dataset=tokenized_val_dataset,\n",
    "    tokenizer=tokenizer,\n",
    ")\n",
    "\n",
    "trainer.train()\n",
    "\n",
    "print(\"Overall Evaluation\")\n",
    "eval_results = trainer.evaluate()\n",
    "print(f\"Overall Perplexity: {math.exp(eval_results['eval_loss']):.2f}\")\n",
    "print(f\"Overall Loss: {eval_results['eval_loss']:.4f}\")\n",
    "\n",
    "languages = ['ar', 'ko', 'te']\n",
    "print(\"\\nLanguage-specific Evaluations\")\n",
    "\n",
    "for lang in languages:\n",
    "    print(f\"\\nEvaluating {lang.upper()}\")\n",
    "    \n",
    "    lang_val_dataset = val_dataset.filter(lambda example: example['lang'] == lang)\n",
    "    print(f\"Number of {lang} validation examples: {len(lang_val_dataset)}\")\n",
    "    \n",
    "    if len(lang_val_dataset) == 0:\n",
    "        print(f\"No validation examples found for language: {lang}\")\n",
    "        continue\n",
    "    \n",
    "    tokenized_lang_val = lang_val_dataset.map(\n",
    "        preprocess_function, \n",
    "        batched=True, \n",
    "        remove_columns=lang_val_dataset.column_names\n",
    "    )\n",
    "    \n",
    "    lang_trainer = Trainer(\n",
    "        model=model,\n",
    "        args=training_args,\n",
    "        eval_dataset=tokenized_lang_val,\n",
    "        tokenizer=tokenizer,\n",
    "    )\n",
    "    \n",
    "    lang_eval_results = lang_trainer.evaluate()\n",
    "    print(f\"{lang.upper()} Perplexity: {math.exp(lang_eval_results['eval_loss']):.2f}\")\n",
    "    print(f\"{lang.upper()} Loss: {lang_eval_results['eval_loss']:.4f}\")\n",
    "    \n",
    "    for key, value in lang_eval_results.items():\n",
    "        if key not in ['eval_loss', 'eval_runtime', 'eval_samples_per_second', 'eval_steps_per_second', 'epoch']:\n",
    "            print(f\"{lang.upper()} {key}: {value:.4f}\")\n",
    "\n",
    "print(\"Evaluation completed for all languages\")"
   ]
  },
  {
   "cell_type": "markdown",
   "id": "243adff1",
   "metadata": {},
   "source": [
    "## RNN (LSTM)"
   ]
  },
  {
   "cell_type": "code",
   "execution_count": 10,
   "id": "6ffc5213",
   "metadata": {},
   "outputs": [
    {
     "name": "stdout",
     "output_type": "stream",
     "text": [
      "Using device: cuda\n",
      "Loading dataset...\n",
      "Building vocabulary from the training dataset...\n"
     ]
    },
    {
     "name": "stderr",
     "output_type": "stream",
     "text": [
      "Counting words: 100%|██████████| 6335/6335 [00:00<00:00, 11001.49it/s]\n"
     ]
    },
    {
     "name": "stdout",
     "output_type": "stream",
     "text": [
      "Vocabulary built. Total unique words found: 51783. Vocab size: 30000\n",
      "Model parameters: 19,086,850\n",
      "\n",
      "Epoch 1/2\n"
     ]
    },
    {
     "name": "stderr",
     "output_type": "stream",
     "text": [
      "Training: 100%|██████████| 396/396 [02:19<00:00,  2.84it/s, avg_loss=7.3613]\n",
      "Evaluating: 100%|██████████| 73/73 [00:10<00:00,  7.03it/s]\n"
     ]
    },
    {
     "name": "stdout",
     "output_type": "stream",
     "text": [
      "Train Loss: 7.3613 | Val Loss: 6.3509 | Val Perplexity: 573.01\n",
      "Start Accuracy: 0.2658 | End Accuracy: 0.2104\n",
      "\n",
      "Epoch 2/2\n"
     ]
    },
    {
     "name": "stderr",
     "output_type": "stream",
     "text": [
      "Training: 100%|██████████| 396/396 [02:25<00:00,  2.72it/s, avg_loss=5.9130]\n",
      "Evaluating: 100%|██████████| 73/73 [00:12<00:00,  6.02it/s]\n"
     ]
    },
    {
     "name": "stdout",
     "output_type": "stream",
     "text": [
      "Train Loss: 5.9130 | Val Loss: 5.9307 | Val Perplexity: 376.42\n",
      "Start Accuracy: 0.2831 | End Accuracy: 0.2312\n",
      "\n",
      "====================\n",
      "Final Overall Evaluation\n",
      "====================\n"
     ]
    },
    {
     "name": "stderr",
     "output_type": "stream",
     "text": [
      "Evaluating: 100%|██████████| 73/73 [00:12<00:00,  5.98it/s]\n"
     ]
    },
    {
     "name": "stdout",
     "output_type": "stream",
     "text": [
      "Overall Loss: 5.9307\n",
      "Overall Perplexity: 376.42\n",
      "Overall Start Position Accuracy: 0.2831\n",
      "Overall End Position Accuracy: 0.2312\n",
      "\n",
      "====================\n",
      "Final Language-Specific Evaluation\n",
      "====================\n",
      "\n",
      "Evaluating language: ar\n"
     ]
    },
    {
     "name": "stderr",
     "output_type": "stream",
     "text": [
      "Evaluating: 100%|██████████| 26/26 [00:03<00:00,  7.62it/s]\n"
     ]
    },
    {
     "name": "stdout",
     "output_type": "stream",
     "text": [
      "AR | Loss: 5.9678 | Perplexity: 390.63 | Start Acc: 0.2458 | End Acc: 0.2386\n",
      "\n",
      "Evaluating language: ko\n"
     ]
    },
    {
     "name": "stderr",
     "output_type": "stream",
     "text": [
      "Evaluating: 100%|██████████| 23/23 [00:04<00:00,  5.27it/s]\n"
     ]
    },
    {
     "name": "stdout",
     "output_type": "stream",
     "text": [
      "KO | Loss: 5.9851 | Perplexity: 397.47 | Start Acc: 0.2528 | End Acc: 0.2275\n",
      "\n",
      "Evaluating language: te\n"
     ]
    },
    {
     "name": "stderr",
     "output_type": "stream",
     "text": [
      "Evaluating: 100%|██████████| 24/24 [00:04<00:00,  5.97it/s]"
     ]
    },
    {
     "name": "stdout",
     "output_type": "stream",
     "text": [
      "TE | Loss: 5.9362 | Perplexity: 378.50 | Start Acc: 0.3516 | End Acc: 0.2266\n"
     ]
    },
    {
     "name": "stderr",
     "output_type": "stream",
     "text": [
      "\n"
     ]
    }
   ],
   "source": [
    "import torch\n",
    "import torch.nn as nn\n",
    "import torch.optim as optim\n",
    "from torch.utils.data import DataLoader, Dataset\n",
    "import torch.nn.functional as F\n",
    "import numpy as np\n",
    "from datasets import load_dataset\n",
    "import math\n",
    "from tqdm import tqdm\n",
    "from collections import Counter\n",
    "import re\n",
    "\n",
    "class WordTokenizer:\n",
    "    def __init__(self, vocab, unk_token='<unk>', pad_token='<pad>'):\n",
    "        self.word2idx = {word: i for i, word in enumerate(vocab)}\n",
    "        self.idx2word = {i: word for i, word in enumerate(vocab)}\n",
    "        self.unk_token = unk_token\n",
    "        self.pad_token = pad_token\n",
    "        self.unk_token_id = self.word2idx.get(self.unk_token)\n",
    "        self.pad_token_id = self.word2idx.get(self.pad_token)\n",
    "        self.vocab_size = len(vocab)\n",
    "\n",
    "    def encode(self, text, max_length=None, padding=False, truncation=False):\n",
    "        words = re.findall(r\"\\w+|[^\\s\\w]\", text.lower())\n",
    "        token_ids = [self.word2idx.get(word, self.unk_token_id) for word in words]\n",
    "\n",
    "        if truncation and max_length:\n",
    "            token_ids = token_ids[:max_length]\n",
    "\n",
    "        if padding and max_length:\n",
    "            padded_length = max_length - len(token_ids)\n",
    "            token_ids.extend([self.pad_token_id] * padded_length)\n",
    "        \n",
    "        return token_ids\n",
    "\n",
    "def build_tokenizer(dataset, languages, vocab_size=30000):\n",
    "    print(\"Building vocabulary from the training dataset...\")\n",
    "    word_counts = Counter()\n",
    "    \n",
    "    train_dataset = dataset[\"train\"].filter(lambda example: example['lang'] in languages)\n",
    "\n",
    "    for example in tqdm(train_dataset, desc=\"Counting words\"):\n",
    "        question_words = re.findall(r\"\\w+|[^\\s\\w]\", example['question'].lower())\n",
    "        context_words = re.findall(r\"\\w+|[^\\s\\w]\", example['context'].lower())\n",
    "        word_counts.update(question_words)\n",
    "        word_counts.update(context_words)\n",
    "\n",
    "    special_tokens = ['<pad>', '<unk>']\n",
    "    vocab = special_tokens + [word for word, count in word_counts.most_common(vocab_size - len(special_tokens))]\n",
    "    \n",
    "    print(f\"Vocabulary built. Total unique words found: {len(word_counts)}. Vocab size: {len(vocab)}\")\n",
    "    \n",
    "    return WordTokenizer(vocab)\n",
    "\n",
    "class QADataset(Dataset):\n",
    "    def __init__(self, dataset, tokenizer, max_q_len=128, max_c_len=512):\n",
    "        self.dataset = dataset\n",
    "        self.tokenizer = tokenizer\n",
    "        self.max_q_len = max_q_len\n",
    "        self.max_c_len = max_c_len\n",
    "\n",
    "    def __len__(self):\n",
    "        return len(self.dataset)\n",
    "        \n",
    "    def __getitem__(self, idx):\n",
    "        example = self.dataset[idx]\n",
    "        question = example['question'].strip()\n",
    "        context = example['context'].strip()\n",
    "        \n",
    "        question_ids = self.tokenizer.encode(question, max_length=self.max_q_len, padding=True, truncation=True)\n",
    "        context_ids = self.tokenizer.encode(context, max_length=self.max_c_len, padding=True, truncation=True)\n",
    "        \n",
    "        answer_text = example.get('answer', '')\n",
    "        answer_start = example.get('answer_start')\n",
    "\n",
    "        answer_start_char = 0\n",
    "        if isinstance(answer_start, list) and answer_start:\n",
    "            answer_start_char = answer_start[0]\n",
    "        elif isinstance(answer_start, int):\n",
    "            answer_start_char = answer_start\n",
    "        \n",
    "        start_token_idx, end_token_idx = 0, 0\n",
    "        \n",
    "        if answer_text:\n",
    "            context_lower = context.lower()\n",
    "            answer_lower = answer_text.lower()\n",
    "            answer_end_char = answer_start_char + len(answer_text)\n",
    "            \n",
    "            char_to_token = {}\n",
    "            tokens_with_spans = [(m.group(0), m.start(), m.end()) for m in re.finditer(r\"\\w+|[^\\s\\w]\", context_lower)]\n",
    "\n",
    "            for i, (token, start, end) in enumerate(tokens_with_spans):\n",
    "                if i >= self.max_c_len:\n",
    "                    break\n",
    "                for char_idx in range(start, end):\n",
    "                    char_to_token[char_idx] = i\n",
    "\n",
    "            start_token_idx = char_to_token.get(answer_start_char, 0)\n",
    "            end_token_idx = char_to_token.get(answer_end_char - 1, 0)\n",
    "\n",
    "            if start_token_idx > end_token_idx:\n",
    "                start_token_idx = end_token_idx\n",
    "\n",
    "            if start_token_idx >= self.max_c_len or end_token_idx >= self.max_c_len:\n",
    "                start_token_idx, end_token_idx = 0, 0\n",
    "\n",
    "        return {\n",
    "            'question_ids': torch.tensor(question_ids, dtype=torch.long),\n",
    "            'context_ids': torch.tensor(context_ids, dtype=torch.long),\n",
    "            'start_position': torch.tensor(start_token_idx, dtype=torch.long),\n",
    "            'end_position': torch.tensor(end_token_idx, dtype=torch.long),\n",
    "        }\n",
    "\n",
    "class LSTMQuestionAnswering(nn.Module):\n",
    "    def __init__(self, vocab_size, embed_dim=128, hidden_dim=256, num_layers=4, dropout=0.3, padding_idx=0):\n",
    "        super(LSTMQuestionAnswering, self).__init__()\n",
    "        self.embedding = nn.Embedding(vocab_size, embed_dim, padding_idx=padding_idx)\n",
    "        self.question_lstm = nn.LSTM(embed_dim, hidden_dim, num_layers, batch_first=True, dropout=dropout, bidirectional=True)\n",
    "        self.context_lstm = nn.LSTM(embed_dim, hidden_dim, num_layers, batch_first=True, dropout=dropout, bidirectional=True)\n",
    "        \n",
    "        self.bi_hidden_dim = hidden_dim * 2\n",
    "        \n",
    "        self.self_attention = nn.MultiheadAttention(self.bi_hidden_dim, num_heads=8, dropout=dropout, batch_first=True)\n",
    "        self.cross_attention = nn.MultiheadAttention(self.bi_hidden_dim, num_heads=8, dropout=dropout, batch_first=True)\n",
    "        \n",
    "        self.layer_norm1 = nn.LayerNorm(self.bi_hidden_dim)\n",
    "        self.layer_norm2 = nn.LayerNorm(self.bi_hidden_dim)\n",
    "        \n",
    "        self.feed_forward = nn.Sequential(\n",
    "            nn.Linear(self.bi_hidden_dim, self.bi_hidden_dim * 4),\n",
    "            nn.ReLU(),\n",
    "            nn.Dropout(dropout),\n",
    "            nn.Linear(self.bi_hidden_dim * 4, self.bi_hidden_dim)\n",
    "        )\n",
    "        self.start_classifier = nn.Linear(self.bi_hidden_dim, 1)\n",
    "        self.end_classifier = nn.Linear(self.bi_hidden_dim, 1)\n",
    "\n",
    "    def forward(self, question_ids, context_ids):\n",
    "        question_embedded = self.embedding(question_ids)\n",
    "        context_embedded = self.embedding(context_ids)\n",
    "        \n",
    "        question_output, _ = self.question_lstm(question_embedded)\n",
    "        context_output, _ = self.context_lstm(context_embedded)\n",
    "        \n",
    "        self_attn_output, _ = self.self_attention(context_output, context_output, context_output)\n",
    "        context_output = self.layer_norm1(context_output + self_attn_output)\n",
    "        \n",
    "        cross_attn_output, _ = self.cross_attention(context_output, question_output, question_output)\n",
    "        final_output = self.layer_norm2(context_output + cross_attn_output)\n",
    "        \n",
    "        ff_output = self.feed_forward(final_output)\n",
    "        final_output = final_output + ff_output\n",
    "        \n",
    "        start_logits = self.start_classifier(final_output).squeeze(-1)\n",
    "        end_logits = self.end_classifier(final_output).squeeze(-1)\n",
    "        \n",
    "        return start_logits, end_logits\n",
    "\n",
    "def train_epoch(model, train_loader, optimizer, device):\n",
    "    model.train()\n",
    "    total_loss = 0\n",
    "    pbar = tqdm(train_loader, desc=\"Training\")\n",
    "    for batch in pbar:\n",
    "        optimizer.zero_grad()\n",
    "        start_logits, end_logits = model(\n",
    "            question_ids=batch['question_ids'].to(device),\n",
    "            context_ids=batch['context_ids'].to(device)\n",
    "        )\n",
    "        start_positions = batch['start_position'].to(device)\n",
    "        end_positions = batch['end_position'].to(device)\n",
    "        \n",
    "        start_loss = F.cross_entropy(start_logits, start_positions)\n",
    "        end_loss = F.cross_entropy(end_logits, end_positions)\n",
    "        loss = start_loss + end_loss\n",
    "        loss.backward()\n",
    "        torch.nn.utils.clip_grad_norm_(model.parameters(), max_norm=1.0)\n",
    "        optimizer.step()\n",
    "        total_loss += loss.item()\n",
    "        pbar.set_postfix({'avg_loss': f'{total_loss / (pbar.n + 1):.4f}'})\n",
    "    return total_loss / len(train_loader)\n",
    "\n",
    "def evaluate_model(model, val_loader, device):\n",
    "    model.eval()\n",
    "    total_loss = 0\n",
    "    total_start_acc, total_end_acc = 0, 0\n",
    "    with torch.no_grad():\n",
    "        for batch in tqdm(val_loader, desc=\"Evaluating\"):\n",
    "            start_logits, end_logits = model(\n",
    "                question_ids=batch['question_ids'].to(device),\n",
    "                context_ids=batch['context_ids'].to(device)\n",
    "            )\n",
    "            start_positions = batch['start_position'].to(device)\n",
    "            end_positions = batch['end_position'].to(device)\n",
    "\n",
    "            start_loss = F.cross_entropy(start_logits, start_positions)\n",
    "            end_loss = F.cross_entropy(end_logits, end_positions)\n",
    "            loss = start_loss + end_loss\n",
    "            total_loss += loss.item()\n",
    "            \n",
    "            total_start_acc += (start_logits.argmax(dim=1) == start_positions).sum().item()\n",
    "            total_end_acc += (end_logits.argmax(dim=1) == end_positions).sum().item()\n",
    "\n",
    "    num_samples = len(val_loader.dataset)\n",
    "    return total_loss / len(val_loader), total_start_acc / num_samples, total_end_acc / num_samples\n",
    "\n",
    "def evaluate_by_language(model, dataset_raw, tokenizer, languages, device, batch_size=16):\n",
    "    results = {}\n",
    "    for lang in languages:\n",
    "        print(f\"\\nEvaluating language: {lang}\")\n",
    "        lang_dataset_raw = dataset_raw.filter(lambda example: example['lang'] == lang)\n",
    "        \n",
    "        if len(lang_dataset_raw) == 0:\n",
    "            print(f\"No examples found for language: {lang}\")\n",
    "            continue\n",
    "\n",
    "        lang_dataset = QADataset(lang_dataset_raw, tokenizer)\n",
    "        lang_loader = DataLoader(lang_dataset, batch_size=batch_size, shuffle=False)\n",
    "        \n",
    "        avg_loss, start_acc, end_acc = evaluate_model(model, lang_loader, device)\n",
    "        \n",
    "        try:\n",
    "            perplexity = math.exp(avg_loss)\n",
    "        except OverflowError:\n",
    "            perplexity = float('inf')\n",
    "            \n",
    "        results[lang] = {\n",
    "            'loss': avg_loss,\n",
    "            'perplexity': perplexity,\n",
    "            'start_accuracy': start_acc,\n",
    "            'end_accuracy': end_acc\n",
    "        }\n",
    "        \n",
    "        print(f\"{lang.upper()} | Loss: {avg_loss:.4f} | Perplexity: {perplexity:.2f} | Start Acc: {start_acc:.4f} | End Acc: {end_acc:.4f}\")\n",
    "    return results\n",
    "\n",
    "def main():\n",
    "    device = torch.device('cuda' if torch.cuda.is_available() else 'cpu')\n",
    "    print(f\"Using device: {device}\")\n",
    "\n",
    "    print(\"Loading dataset...\")\n",
    "    dataset = load_dataset(\"coastalcph/tydi_xor_rc\")\n",
    "    languages = ['ar', 'ko', 'te']\n",
    "    \n",
    "    tokenizer = build_tokenizer(dataset, languages, vocab_size=30000)\n",
    "    \n",
    "    train_dataset_raw = dataset[\"train\"].filter(lambda example: example['lang'] in languages)\n",
    "    val_dataset_raw = dataset[\"validation\"].filter(lambda example: example['lang'] in languages)\n",
    "\n",
    "    train_dataset = QADataset(train_dataset_raw, tokenizer)\n",
    "    val_dataset = QADataset(val_dataset_raw, tokenizer)\n",
    "\n",
    "    batch_size = 16\n",
    "    train_loader = DataLoader(train_dataset, batch_size=batch_size, shuffle=True)\n",
    "    val_loader = DataLoader(val_dataset, batch_size=batch_size, shuffle=False)\n",
    "\n",
    "    model = LSTMQuestionAnswering(\n",
    "        vocab_size=tokenizer.vocab_size,\n",
    "        padding_idx=tokenizer.pad_token_id\n",
    "    ).to(device)\n",
    "    \n",
    "    print(f\"Model parameters: {sum(p.numel() for p in model.parameters()):,}\")\n",
    "\n",
    "    optimizer = optim.AdamW(model.parameters(), lr=1e-3)\n",
    "    scheduler = optim.lr_scheduler.ReduceLROnPlateau(optimizer, 'min', factor=0.2, patience=1)\n",
    "\n",
    "    best_val_loss = float('inf')\n",
    "    patience_counter = 0\n",
    "    num_epochs = 2\n",
    "\n",
    "    for epoch in range(num_epochs):\n",
    "        print(f\"\\nEpoch {epoch + 1}/{num_epochs}\")\n",
    "        train_loss = train_epoch(model, train_loader, optimizer, device)\n",
    "        val_loss, start_acc, end_acc = evaluate_model(model, val_loader, device)\n",
    "        scheduler.step(val_loss)\n",
    "        \n",
    "        try:\n",
    "            perplexity = math.exp(val_loss)\n",
    "        except OverflowError:\n",
    "            perplexity = float('inf')\n",
    "        \n",
    "        print(f\"Train Loss: {train_loss:.4f} | Val Loss: {val_loss:.4f} | Val Perplexity: {perplexity:.2f}\")\n",
    "        print(f\"Start Accuracy: {start_acc:.4f} | End Accuracy: {end_acc:.4f}\")\n",
    "\n",
    "        if val_loss < best_val_loss:\n",
    "            best_val_loss = val_loss\n",
    "            patience_counter = 0\n",
    "        else:\n",
    "            patience_counter += 1\n",
    "            if patience_counter >= 3:\n",
    "                print(\"Early stopping triggered.\")\n",
    "                break\n",
    "    \n",
    "    print(\"\\n\" + \"=\"*20)\n",
    "    print(\"Final Overall Evaluation\")\n",
    "    print(\"=\"*20)\n",
    "    \n",
    "    overall_loss, overall_start_acc, overall_end_acc = evaluate_model(model, val_loader, device)\n",
    "    \n",
    "    try:\n",
    "        overall_perplexity = math.exp(overall_loss)\n",
    "    except OverflowError:\n",
    "        overall_perplexity = float('inf')\n",
    "        \n",
    "    print(f\"Overall Loss: {overall_loss:.4f}\")\n",
    "    print(f\"Overall Perplexity: {overall_perplexity:.2f}\")\n",
    "    print(f\"Overall Start Position Accuracy: {overall_start_acc:.4f}\")\n",
    "    print(f\"Overall End Position Accuracy: {overall_end_acc:.4f}\")\n",
    "    \n",
    "    print(\"\\n\" + \"=\"*20)\n",
    "    print(\"Final Language-Specific Evaluation\")\n",
    "    print(\"=\"*20)\n",
    "    \n",
    "    lang_results = evaluate_by_language(model, val_dataset_raw, tokenizer, languages, device)\n",
    "\n",
    "if __name__ == \"__main__\":\n",
    "    main()"
   ]
  }
 ],
 "metadata": {
  "kernelspec": {
   "display_name": "Python 3",
   "language": "python",
   "name": "python3"
  },
  "language_info": {
   "codemirror_mode": {
    "name": "ipython",
    "version": 3
   },
   "file_extension": ".py",
   "mimetype": "text/x-python",
   "name": "python",
   "nbconvert_exporter": "python",
   "pygments_lexer": "ipython3",
   "version": "3.10.0"
  }
 },
 "nbformat": 4,
 "nbformat_minor": 5
}
