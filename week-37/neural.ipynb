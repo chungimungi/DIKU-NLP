{
 "cells": [
  {
   "cell_type": "markdown",
   "id": "aec11e88",
   "metadata": {},
   "source": [
    "## Fine-Tuning BERT"
   ]
  },
  {
   "cell_type": "code",
   "execution_count": 1,
   "id": "3917ff0a",
   "metadata": {},
   "outputs": [
    {
     "name": "stdout",
     "output_type": "stream",
     "text": [
      "Sample from train dataset:\n",
      "Keys: dict_keys(['question', 'context', 'lang', 'answerable', 'answer_start', 'answer', 'answer_inlang'])\n",
      "Answer structure: France\n",
      "Answer type: <class 'str'>\n"
     ]
    },
    {
     "name": "stderr",
     "output_type": "stream",
     "text": [
      "Some weights of BertForQuestionAnswering were not initialized from the model checkpoint at google-bert/bert-base-uncased and are newly initialized: ['qa_outputs.bias', 'qa_outputs.weight']\n",
      "You should probably TRAIN this model on a down-stream task to be able to use it for predictions and inference.\n",
      "C:\\Users\\aarus\\AppData\\Local\\Temp\\ipykernel_3472\\104377962.py:128: FutureWarning: `tokenizer` is deprecated and will be removed in version 5.0.0 for `Trainer.__init__`. Use `processing_class` instead.\n",
      "  trainer = Trainer(\n",
      "wandb: Currently logged in as: aarushsinha60 (chungimungi) to https://api.wandb.ai. Use `wandb login --relogin` to force relogin\n",
      "wandb: Using wandb-core as the SDK backend.  Please refer to https://wandb.me/wandb-core for more information.\n"
     ]
    },
    {
     "data": {
      "text/html": [
       "Tracking run with wandb version 0.19.5"
      ],
      "text/plain": [
       "<IPython.core.display.HTML object>"
      ]
     },
     "metadata": {},
     "output_type": "display_data"
    },
    {
     "data": {
      "text/html": [
       "Run data is saved locally in <code>c:\\Users\\aarus\\Desktop\\Github\\DIKU-NLP\\week-37\\wandb\\run-20250915_083225-veydli1h</code>"
      ],
      "text/plain": [
       "<IPython.core.display.HTML object>"
      ]
     },
     "metadata": {},
     "output_type": "display_data"
    },
    {
     "data": {
      "text/html": [
       "Syncing run <strong><a href='https://wandb.ai/chungimungi/huggingface/runs/veydli1h' target=\"_blank\">comfy-elevator-15</a></strong> to <a href='https://wandb.ai/chungimungi/huggingface' target=\"_blank\">Weights & Biases</a> (<a href='https://wandb.me/developer-guide' target=\"_blank\">docs</a>)<br>"
      ],
      "text/plain": [
       "<IPython.core.display.HTML object>"
      ]
     },
     "metadata": {},
     "output_type": "display_data"
    },
    {
     "data": {
      "text/html": [
       " View project at <a href='https://wandb.ai/chungimungi/huggingface' target=\"_blank\">https://wandb.ai/chungimungi/huggingface</a>"
      ],
      "text/plain": [
       "<IPython.core.display.HTML object>"
      ]
     },
     "metadata": {},
     "output_type": "display_data"
    },
    {
     "data": {
      "text/html": [
       " View run at <a href='https://wandb.ai/chungimungi/huggingface/runs/veydli1h' target=\"_blank\">https://wandb.ai/chungimungi/huggingface/runs/veydli1h</a>"
      ],
      "text/plain": [
       "<IPython.core.display.HTML object>"
      ]
     },
     "metadata": {},
     "output_type": "display_data"
    },
    {
     "data": {
      "text/html": [
       "\n",
       "    <div>\n",
       "      \n",
       "      <progress value='407' max='407' style='width:300px; height:20px; vertical-align: middle;'></progress>\n",
       "      [407/407 08:13, Epoch 1/1]\n",
       "    </div>\n",
       "    <table border=\"1\" class=\"dataframe\">\n",
       "  <thead>\n",
       " <tr style=\"text-align: left;\">\n",
       "      <th>Step</th>\n",
       "      <th>Training Loss</th>\n",
       "      <th>Validation Loss</th>\n",
       "    </tr>\n",
       "  </thead>\n",
       "  <tbody>\n",
       "    <tr>\n",
       "      <td>25</td>\n",
       "      <td>4.514600</td>\n",
       "      <td>3.173701</td>\n",
       "    </tr>\n",
       "    <tr>\n",
       "      <td>50</td>\n",
       "      <td>2.118100</td>\n",
       "      <td>1.284127</td>\n",
       "    </tr>\n",
       "    <tr>\n",
       "      <td>75</td>\n",
       "      <td>1.424600</td>\n",
       "      <td>1.214832</td>\n",
       "    </tr>\n",
       "    <tr>\n",
       "      <td>100</td>\n",
       "      <td>1.282600</td>\n",
       "      <td>1.151535</td>\n",
       "    </tr>\n",
       "    <tr>\n",
       "      <td>125</td>\n",
       "      <td>1.219500</td>\n",
       "      <td>1.121558</td>\n",
       "    </tr>\n",
       "    <tr>\n",
       "      <td>150</td>\n",
       "      <td>1.183600</td>\n",
       "      <td>1.111004</td>\n",
       "    </tr>\n",
       "    <tr>\n",
       "      <td>175</td>\n",
       "      <td>1.153900</td>\n",
       "      <td>1.115361</td>\n",
       "    </tr>\n",
       "    <tr>\n",
       "      <td>200</td>\n",
       "      <td>1.213400</td>\n",
       "      <td>1.081321</td>\n",
       "    </tr>\n",
       "    <tr>\n",
       "      <td>225</td>\n",
       "      <td>1.074000</td>\n",
       "      <td>1.087571</td>\n",
       "    </tr>\n",
       "    <tr>\n",
       "      <td>250</td>\n",
       "      <td>1.141700</td>\n",
       "      <td>1.079575</td>\n",
       "    </tr>\n",
       "    <tr>\n",
       "      <td>275</td>\n",
       "      <td>1.159200</td>\n",
       "      <td>1.072334</td>\n",
       "    </tr>\n",
       "    <tr>\n",
       "      <td>300</td>\n",
       "      <td>1.118300</td>\n",
       "      <td>1.064696</td>\n",
       "    </tr>\n",
       "    <tr>\n",
       "      <td>325</td>\n",
       "      <td>1.138900</td>\n",
       "      <td>1.060868</td>\n",
       "    </tr>\n",
       "    <tr>\n",
       "      <td>350</td>\n",
       "      <td>1.072000</td>\n",
       "      <td>1.055520</td>\n",
       "    </tr>\n",
       "    <tr>\n",
       "      <td>375</td>\n",
       "      <td>1.108500</td>\n",
       "      <td>1.059731</td>\n",
       "    </tr>\n",
       "    <tr>\n",
       "      <td>400</td>\n",
       "      <td>1.132800</td>\n",
       "      <td>1.058352</td>\n",
       "    </tr>\n",
       "  </tbody>\n",
       "</table><p>"
      ],
      "text/plain": [
       "<IPython.core.display.HTML object>"
      ]
     },
     "metadata": {},
     "output_type": "display_data"
    },
    {
     "name": "stdout",
     "output_type": "stream",
     "text": [
      "Overall Evaluation\n"
     ]
    },
    {
     "data": {
      "text/html": [
       "\n",
       "    <div>\n",
       "      \n",
       "      <progress value='75' max='75' style='width:300px; height:20px; vertical-align: middle;'></progress>\n",
       "      [75/75 00:14]\n",
       "    </div>\n",
       "    "
      ],
      "text/plain": [
       "<IPython.core.display.HTML object>"
      ]
     },
     "metadata": {},
     "output_type": "display_data"
    },
    {
     "name": "stdout",
     "output_type": "stream",
     "text": [
      "Overall Perplexity: 2.88\n",
      "Overall Loss: 1.0582\n",
      "\n",
      "Language-specific Evaluations\n",
      "\n",
      "Evaluating AR\n",
      "Number of ar validation examples: 415\n"
     ]
    },
    {
     "name": "stderr",
     "output_type": "stream",
     "text": [
      "C:\\Users\\aarus\\AppData\\Local\\Temp\\ipykernel_3472\\104377962.py:162: FutureWarning: `tokenizer` is deprecated and will be removed in version 5.0.0 for `Trainer.__init__`. Use `processing_class` instead.\n",
      "  lang_trainer = Trainer(\n"
     ]
    },
    {
     "data": {
      "text/html": [
       "\n",
       "    <div>\n",
       "      \n",
       "      <progress value='28' max='28' style='width:300px; height:20px; vertical-align: middle;'></progress>\n",
       "      [28/28 00:05]\n",
       "    </div>\n",
       "    "
      ],
      "text/plain": [
       "<IPython.core.display.HTML object>"
      ]
     },
     "metadata": {},
     "output_type": "display_data"
    },
    {
     "name": "stdout",
     "output_type": "stream",
     "text": [
      "AR Perplexity: 2.94\n",
      "AR Loss: 1.0793\n",
      "AR eval_model_preparation_time: 0.0020\n",
      "\n",
      "Evaluating KO\n",
      "Number of ko validation examples: 356\n"
     ]
    },
    {
     "data": {
      "application/vnd.jupyter.widget-view+json": {
       "model_id": "4a94ff9cd6c44e4eaea00f4f16aba0c0",
       "version_major": 2,
       "version_minor": 0
      },
      "text/plain": [
       "Map:   0%|          | 0/356 [00:00<?, ? examples/s]"
      ]
     },
     "metadata": {},
     "output_type": "display_data"
    },
    {
     "data": {
      "text/html": [
       "\n",
       "    <div>\n",
       "      \n",
       "      <progress value='23' max='23' style='width:300px; height:20px; vertical-align: middle;'></progress>\n",
       "      [23/23 00:04]\n",
       "    </div>\n",
       "    "
      ],
      "text/plain": [
       "<IPython.core.display.HTML object>"
      ]
     },
     "metadata": {},
     "output_type": "display_data"
    },
    {
     "name": "stdout",
     "output_type": "stream",
     "text": [
      "KO Perplexity: 2.86\n",
      "KO Loss: 1.0503\n",
      "KO eval_model_preparation_time: 0.0020\n",
      "\n",
      "Evaluating TE\n",
      "Number of te validation examples: 384\n"
     ]
    },
    {
     "data": {
      "text/html": [
       "\n",
       "    <div>\n",
       "      \n",
       "      <progress value='25' max='25' style='width:300px; height:20px; vertical-align: middle;'></progress>\n",
       "      [25/25 00:04]\n",
       "    </div>\n",
       "    "
      ],
      "text/plain": [
       "<IPython.core.display.HTML object>"
      ]
     },
     "metadata": {},
     "output_type": "display_data"
    },
    {
     "name": "stdout",
     "output_type": "stream",
     "text": [
      "TE Perplexity: 2.83\n",
      "TE Loss: 1.0420\n",
      "TE eval_model_preparation_time: 0.0030\n",
      "Evaluation completed for all languages\n"
     ]
    }
   ],
   "source": [
    "import pandas as pd\n",
    "from datasets import load_dataset, Dataset\n",
    "from transformers import AutoTokenizer, AutoModelForQuestionAnswering, TrainingArguments, Trainer\n",
    "import torch\n",
    "import math\n",
    "\n",
    "dataset = load_dataset(\"coastalcph/tydi_xor_rc\")\n",
    "\n",
    "languages = ['ar', 'ko', 'te']\n",
    "train_dataset = dataset[\"train\"].filter(lambda example: example['lang'] in languages)\n",
    "val_dataset = dataset[\"validation\"].filter(lambda example: example['lang'] in languages)\n",
    "\n",
    "print(\"Sample from train dataset:\")\n",
    "sample = train_dataset[0]\n",
    "print(f\"Keys: {sample.keys()}\")\n",
    "print(f\"Answer structure: {sample['answer']}\")\n",
    "print(f\"Answer type: {type(sample['answer'])}\")\n",
    "\n",
    "model_checkpoint = \"google-bert/bert-base-uncased\"\n",
    "tokenizer = AutoTokenizer.from_pretrained(model_checkpoint)\n",
    "\n",
    "max_length = 384\n",
    "doc_stride = 128\n",
    "\n",
    "def preprocess_function(examples):\n",
    "    questions = [q.strip() for q in examples[\"question\"]]\n",
    "    contexts = [c.strip() for c in examples[\"context\"]]\n",
    "    \n",
    "    tokenized_examples = tokenizer(\n",
    "        questions,\n",
    "        contexts,\n",
    "        truncation=\"only_second\",\n",
    "        max_length=max_length,\n",
    "        stride=doc_stride,\n",
    "        return_overflowing_tokens=True,\n",
    "        return_offsets_mapping=True,\n",
    "        padding=\"max_length\",\n",
    "    )\n",
    "\n",
    "    offset_mapping = tokenized_examples.pop(\"offset_mapping\")\n",
    "    sample_mapping = tokenized_examples.pop(\"overflow_to_sample_mapping\")\n",
    "    \n",
    "    tokenized_examples[\"start_positions\"] = []\n",
    "    tokenized_examples[\"end_positions\"] = []\n",
    "\n",
    "    for i, offsets in enumerate(offset_mapping):\n",
    "        input_ids = tokenized_examples[\"input_ids\"][i]\n",
    "        cls_index = input_ids.index(tokenizer.cls_token_id)\n",
    "\n",
    "        sequence_ids = tokenized_examples.sequence_ids(i)\n",
    "\n",
    "        sample_index = sample_mapping[i]\n",
    "        \n",
    "        answer_data = examples[\"answer\"][sample_index]\n",
    "        \n",
    "        if isinstance(answer_data, dict):\n",
    "            if \"text\" in answer_data:\n",
    "                answer_text = answer_data[\"text\"]\n",
    "                answer_starts = answer_data.get(\"answer_start\", [])\n",
    "            else:\n",
    "                answer_text = answer_data.get(\"answer_text\", answer_data.get(\"answers\", \"\"))\n",
    "                answer_starts = answer_data.get(\"answer_start\", answer_data.get(\"answer_starts\", []))\n",
    "        elif isinstance(answer_data, str):\n",
    "            answer_text = answer_data\n",
    "            answer_starts = []\n",
    "        else:\n",
    "            answer_text = \"\"\n",
    "            answer_starts = []\n",
    "        \n",
    "        if isinstance(answer_text, str):\n",
    "            answer_texts = [answer_text] if answer_text else []\n",
    "        else:\n",
    "            answer_texts = answer_text if answer_text else []\n",
    "        \n",
    "        if not isinstance(answer_starts, list):\n",
    "            answer_starts = [answer_starts] if answer_starts else []\n",
    "        \n",
    "        if not answer_texts or not answer_texts[0].strip():\n",
    "            tokenized_examples[\"start_positions\"].append(cls_index)\n",
    "            tokenized_examples[\"end_positions\"].append(cls_index)\n",
    "        else:\n",
    "            answer_text = answer_texts[0]\n",
    "            start_char = answer_starts[0] if answer_starts else 0\n",
    "            end_char = start_char + len(answer_text)\n",
    "\n",
    "            token_start_index = 0\n",
    "            while token_start_index < len(sequence_ids) and sequence_ids[token_start_index] != 1:\n",
    "                token_start_index += 1\n",
    "\n",
    "            token_end_index = len(input_ids) - 1\n",
    "            while token_end_index >= 0 and sequence_ids[token_end_index] != 1:\n",
    "                token_end_index -= 1\n",
    "\n",
    "            if (token_start_index >= len(offsets) or token_end_index >= len(offsets) or \n",
    "                token_start_index > token_end_index or\n",
    "                not (offsets[token_start_index][0] <= start_char and offsets[token_end_index][1] >= end_char)):\n",
    "                tokenized_examples[\"start_positions\"].append(cls_index)\n",
    "                tokenized_examples[\"end_positions\"].append(cls_index)\n",
    "            else:\n",
    "                while token_start_index < len(offsets) and offsets[token_start_index][0] <= start_char:\n",
    "                    token_start_index += 1\n",
    "                tokenized_examples[\"start_positions\"].append(token_start_index - 1)\n",
    "                \n",
    "                while token_end_index >= 0 and offsets[token_end_index][1] >= end_char:\n",
    "                    token_end_index -= 1\n",
    "                tokenized_examples[\"end_positions\"].append(token_end_index + 1)\n",
    "\n",
    "    return tokenized_examples\n",
    "\n",
    "tokenized_train_dataset = train_dataset.map(preprocess_function, batched=True, remove_columns=train_dataset.column_names)\n",
    "tokenized_val_dataset = val_dataset.map(preprocess_function, batched=True, remove_columns=val_dataset.column_names)\n",
    "\n",
    "model = AutoModelForQuestionAnswering.from_pretrained(model_checkpoint)\n",
    "\n",
    "training_args = TrainingArguments(\n",
    "    output_dir=\"./results\",\n",
    "    eval_strategy=\"steps\",\n",
    "    eval_steps=25,\n",
    "    logging_strategy=\"steps\",\n",
    "    logging_steps=25,\n",
    "    learning_rate=2e-5,\n",
    "    per_device_train_batch_size=16,\n",
    "    per_device_eval_batch_size=16,\n",
    "    num_train_epochs=1,\n",
    "    weight_decay=0.01,\n",
    ")\n",
    "\n",
    "trainer = Trainer(\n",
    "    model=model,\n",
    "    args=training_args,\n",
    "    train_dataset=tokenized_train_dataset,\n",
    "    eval_dataset=tokenized_val_dataset,\n",
    "    tokenizer=tokenizer,\n",
    ")\n",
    "\n",
    "trainer.train()\n",
    "\n",
    "print(\"Overall Evaluation\")\n",
    "eval_results = trainer.evaluate()\n",
    "print(f\"Overall Perplexity: {math.exp(eval_results['eval_loss']):.2f}\")\n",
    "print(f\"Overall Loss: {eval_results['eval_loss']:.4f}\")\n",
    "\n",
    "languages = ['ar', 'ko', 'te']\n",
    "print(\"\\nLanguage-specific Evaluations\")\n",
    "\n",
    "for lang in languages:\n",
    "    print(f\"\\nEvaluating {lang.upper()}\")\n",
    "    \n",
    "    lang_val_dataset = val_dataset.filter(lambda example: example['lang'] == lang)\n",
    "    print(f\"Number of {lang} validation examples: {len(lang_val_dataset)}\")\n",
    "    \n",
    "    if len(lang_val_dataset) == 0:\n",
    "        print(f\"No validation examples found for language: {lang}\")\n",
    "        continue\n",
    "    \n",
    "    tokenized_lang_val = lang_val_dataset.map(\n",
    "        preprocess_function, \n",
    "        batched=True, \n",
    "        remove_columns=lang_val_dataset.column_names\n",
    "    )\n",
    "    \n",
    "    lang_trainer = Trainer(\n",
    "        model=model,\n",
    "        args=training_args,\n",
    "        eval_dataset=tokenized_lang_val,\n",
    "        tokenizer=tokenizer,\n",
    "    )\n",
    "    \n",
    "    lang_eval_results = lang_trainer.evaluate()\n",
    "    print(f\"{lang.upper()} Perplexity: {math.exp(lang_eval_results['eval_loss']):.2f}\")\n",
    "    print(f\"{lang.upper()} Loss: {lang_eval_results['eval_loss']:.4f}\")\n",
    "    \n",
    "    for key, value in lang_eval_results.items():\n",
    "        if key not in ['eval_loss', 'eval_runtime', 'eval_samples_per_second', 'eval_steps_per_second', 'epoch']:\n",
    "            print(f\"{lang.upper()} {key}: {value:.4f}\")\n",
    "\n",
    "print(\"Evaluation completed for all languages\")"
   ]
  },
  {
   "cell_type": "markdown",
   "id": "243adff1",
   "metadata": {},
   "source": [
    "## RNN (LSTM)"
   ]
  },
  {
   "cell_type": "code",
   "execution_count": 1,
   "id": "9966970a",
   "metadata": {},
   "outputs": [
    {
     "name": "stdout",
     "output_type": "stream",
     "text": [
      "Using device: cuda\n",
      "GPU: NVIDIA GeForce RTX 4060 Laptop GPU\n",
      "Loading dataset and tokenizer...\n",
      "Train dataset size: 6335\n",
      "Validation dataset size: 1155\n",
      "Model parameters: 12,060,930\n",
      "Trainable parameters: 12,060,930\n",
      "\n",
      "Epoch 1/10\n"
     ]
    },
    {
     "name": "stderr",
     "output_type": "stream",
     "text": [
      "Training: 100%|██████████| 396/396 [01:05<00:00,  6.07it/s, loss=8.2154, avg_loss=9.2861]  \n"
     ]
    },
    {
     "name": "stdout",
     "output_type": "stream",
     "text": [
      "Training Loss: 9.2861\n",
      "\n",
      "Evaluating on validation set...\n"
     ]
    },
    {
     "name": "stderr",
     "output_type": "stream",
     "text": [
      "Evaluating: 100%|██████████| 73/73 [00:06<00:00, 10.53it/s]\n"
     ]
    },
    {
     "name": "stdout",
     "output_type": "stream",
     "text": [
      "Validation Loss: 7.8497\n",
      "Validation Perplexity: 2564.97\n",
      "Start Position Accuracy: 0.1515\n",
      "End Position Accuracy: 0.1100\n",
      "\n",
      "Epoch 2/10\n"
     ]
    },
    {
     "name": "stderr",
     "output_type": "stream",
     "text": [
      "Training: 100%|██████████| 396/396 [01:15<00:00,  5.23it/s, loss=7.4108, avg_loss=7.2681]\n"
     ]
    },
    {
     "name": "stdout",
     "output_type": "stream",
     "text": [
      "Training Loss: 7.2681\n",
      "\n",
      "Evaluating on validation set...\n"
     ]
    },
    {
     "name": "stderr",
     "output_type": "stream",
     "text": [
      "Evaluating: 100%|██████████| 73/73 [00:06<00:00, 10.61it/s]\n"
     ]
    },
    {
     "name": "stdout",
     "output_type": "stream",
     "text": [
      "Validation Loss: 7.1511\n",
      "Validation Perplexity: 1275.47\n",
      "Start Position Accuracy: 0.1662\n",
      "End Position Accuracy: 0.1524\n",
      "\n",
      "Epoch 3/10\n"
     ]
    },
    {
     "name": "stderr",
     "output_type": "stream",
     "text": [
      "Training: 100%|██████████| 396/396 [01:11<00:00,  5.52it/s, loss=6.2380, avg_loss=6.6507]\n"
     ]
    },
    {
     "name": "stdout",
     "output_type": "stream",
     "text": [
      "Training Loss: 6.6507\n",
      "\n",
      "Evaluating on validation set...\n"
     ]
    },
    {
     "name": "stderr",
     "output_type": "stream",
     "text": [
      "Evaluating: 100%|██████████| 73/73 [00:05<00:00, 12.27it/s]\n"
     ]
    },
    {
     "name": "stdout",
     "output_type": "stream",
     "text": [
      "Validation Loss: 6.7510\n",
      "Validation Perplexity: 854.92\n",
      "Start Position Accuracy: 0.2208\n",
      "End Position Accuracy: 0.2190\n",
      "\n",
      "Epoch 4/10\n"
     ]
    },
    {
     "name": "stderr",
     "output_type": "stream",
     "text": [
      "Training: 100%|██████████| 396/396 [01:10<00:00,  5.58it/s, loss=5.6223, avg_loss=6.1169]\n"
     ]
    },
    {
     "name": "stdout",
     "output_type": "stream",
     "text": [
      "Training Loss: 6.1169\n",
      "\n",
      "Evaluating on validation set...\n"
     ]
    },
    {
     "name": "stderr",
     "output_type": "stream",
     "text": [
      "Evaluating: 100%|██████████| 73/73 [00:06<00:00, 11.27it/s]\n"
     ]
    },
    {
     "name": "stdout",
     "output_type": "stream",
     "text": [
      "Validation Loss: 6.6770\n",
      "Validation Perplexity: 793.90\n",
      "Start Position Accuracy: 0.2355\n",
      "End Position Accuracy: 0.2199\n",
      "\n",
      "Epoch 5/10\n"
     ]
    },
    {
     "name": "stderr",
     "output_type": "stream",
     "text": [
      "Training: 100%|██████████| 396/396 [01:09<00:00,  5.73it/s, loss=4.9150, avg_loss=5.7371]\n"
     ]
    },
    {
     "name": "stdout",
     "output_type": "stream",
     "text": [
      "Training Loss: 5.7371\n",
      "\n",
      "Evaluating on validation set...\n"
     ]
    },
    {
     "name": "stderr",
     "output_type": "stream",
     "text": [
      "Evaluating: 100%|██████████| 73/73 [00:06<00:00, 10.53it/s]\n"
     ]
    },
    {
     "name": "stdout",
     "output_type": "stream",
     "text": [
      "Validation Loss: 6.6322\n",
      "Validation Perplexity: 759.15\n",
      "Start Position Accuracy: 0.2519\n",
      "End Position Accuracy: 0.2355\n",
      "\n",
      "Epoch 6/10\n"
     ]
    },
    {
     "name": "stderr",
     "output_type": "stream",
     "text": [
      "Training: 100%|██████████| 396/396 [01:10<00:00,  5.61it/s, loss=6.8640, avg_loss=5.4078]\n"
     ]
    },
    {
     "name": "stdout",
     "output_type": "stream",
     "text": [
      "Training Loss: 5.4078\n",
      "\n",
      "Evaluating on validation set...\n"
     ]
    },
    {
     "name": "stderr",
     "output_type": "stream",
     "text": [
      "Evaluating: 100%|██████████| 73/73 [00:04<00:00, 16.73it/s]\n"
     ]
    },
    {
     "name": "stdout",
     "output_type": "stream",
     "text": [
      "Validation Loss: 6.6182\n",
      "Validation Perplexity: 748.63\n",
      "Start Position Accuracy: 0.2416\n",
      "End Position Accuracy: 0.2303\n",
      "\n",
      "Epoch 7/10\n"
     ]
    },
    {
     "name": "stderr",
     "output_type": "stream",
     "text": [
      "Training: 100%|██████████| 396/396 [00:47<00:00,  8.28it/s, loss=3.5647, avg_loss=5.1429]\n"
     ]
    },
    {
     "name": "stdout",
     "output_type": "stream",
     "text": [
      "Training Loss: 5.1429\n",
      "\n",
      "Evaluating on validation set...\n"
     ]
    },
    {
     "name": "stderr",
     "output_type": "stream",
     "text": [
      "Evaluating: 100%|██████████| 73/73 [00:04<00:00, 16.51it/s]\n"
     ]
    },
    {
     "name": "stdout",
     "output_type": "stream",
     "text": [
      "Validation Loss: 6.9190\n",
      "Validation Perplexity: 1011.27\n",
      "Start Position Accuracy: 0.2476\n",
      "End Position Accuracy: 0.2216\n",
      "\n",
      "Epoch 8/10\n"
     ]
    },
    {
     "name": "stderr",
     "output_type": "stream",
     "text": [
      "Training: 100%|██████████| 396/396 [00:50<00:00,  7.83it/s, loss=4.8291, avg_loss=4.9348]\n"
     ]
    },
    {
     "name": "stdout",
     "output_type": "stream",
     "text": [
      "Training Loss: 4.9348\n",
      "\n",
      "Evaluating on validation set...\n"
     ]
    },
    {
     "name": "stderr",
     "output_type": "stream",
     "text": [
      "Evaluating: 100%|██████████| 73/73 [00:04<00:00, 14.80it/s]\n"
     ]
    },
    {
     "name": "stdout",
     "output_type": "stream",
     "text": [
      "Validation Loss: 6.7802\n",
      "Validation Perplexity: 880.21\n",
      "Start Position Accuracy: 0.2468\n",
      "End Position Accuracy: 0.2268\n",
      "\n",
      "Epoch 9/10\n"
     ]
    },
    {
     "name": "stderr",
     "output_type": "stream",
     "text": [
      "Training: 100%|██████████| 396/396 [00:51<00:00,  7.72it/s, loss=3.7590, avg_loss=4.6756]\n"
     ]
    },
    {
     "name": "stdout",
     "output_type": "stream",
     "text": [
      "Training Loss: 4.6756\n",
      "\n",
      "Evaluating on validation set...\n"
     ]
    },
    {
     "name": "stderr",
     "output_type": "stream",
     "text": [
      "Evaluating: 100%|██████████| 73/73 [00:04<00:00, 16.11it/s]\n"
     ]
    },
    {
     "name": "stdout",
     "output_type": "stream",
     "text": [
      "Validation Loss: 6.8338\n",
      "Validation Perplexity: 928.72\n",
      "Start Position Accuracy: 0.2693\n",
      "End Position Accuracy: 0.2494\n",
      "\n",
      "Epoch 10/10\n"
     ]
    },
    {
     "name": "stderr",
     "output_type": "stream",
     "text": [
      "Training: 100%|██████████| 396/396 [00:49<00:00,  7.99it/s, loss=3.4470, avg_loss=4.5349]\n"
     ]
    },
    {
     "name": "stdout",
     "output_type": "stream",
     "text": [
      "Training Loss: 4.5349\n",
      "\n",
      "Evaluating on validation set...\n"
     ]
    },
    {
     "name": "stderr",
     "output_type": "stream",
     "text": [
      "Evaluating: 100%|██████████| 73/73 [00:04<00:00, 16.04it/s]\n"
     ]
    },
    {
     "name": "stdout",
     "output_type": "stream",
     "text": [
      "Validation Loss: 6.8574\n",
      "Validation Perplexity: 950.93\n",
      "Start Position Accuracy: 0.2589\n",
      "End Position Accuracy: 0.2416\n",
      "Evaluation\n"
     ]
    },
    {
     "name": "stderr",
     "output_type": "stream",
     "text": [
      "Evaluating: 100%|██████████| 73/73 [00:04<00:00, 16.03it/s]\n"
     ]
    },
    {
     "name": "stdout",
     "output_type": "stream",
     "text": [
      "Overall Loss: 6.8574\n",
      "Overall Perplexity: 950.93\n",
      "Overall Start Position Accuracy: 0.2589\n",
      "Overall End Position Accuracy: 0.2416\n",
      "\n",
      "Language-specific Evaluations\n",
      "\n",
      " Evaluating ar \n",
      "Number of ar validation examples: 415\n"
     ]
    },
    {
     "name": "stderr",
     "output_type": "stream",
     "text": [
      "Evaluating: 100%|██████████| 26/26 [00:01<00:00, 16.01it/s]\n"
     ]
    },
    {
     "name": "stdout",
     "output_type": "stream",
     "text": [
      "AR Loss: 6.2708\n",
      "AR Perplexity: 528.92\n",
      "AR Start Position Accuracy: 0.3108\n",
      "AR End Position Accuracy: 0.3133\n",
      "\n",
      " Evaluating ko \n",
      "Number of ko validation examples: 356\n"
     ]
    },
    {
     "name": "stderr",
     "output_type": "stream",
     "text": [
      "Evaluating: 100%|██████████| 23/23 [00:01<00:00, 16.10it/s]\n"
     ]
    },
    {
     "name": "stdout",
     "output_type": "stream",
     "text": [
      "KO Loss: 6.6723\n",
      "KO Perplexity: 790.19\n",
      "KO Start Position Accuracy: 0.2697\n",
      "KO End Position Accuracy: 0.2472\n",
      "\n",
      " Evaluating te \n",
      "Number of te validation examples: 384\n"
     ]
    },
    {
     "name": "stderr",
     "output_type": "stream",
     "text": [
      "Evaluating: 100%|██████████| 24/24 [00:01<00:00, 15.94it/s]"
     ]
    },
    {
     "name": "stdout",
     "output_type": "stream",
     "text": [
      "TE Loss: 7.5759\n",
      "TE Perplexity: 1950.63\n",
      "TE Start Position Accuracy: 0.1927\n",
      "TE End Position Accuracy: 0.1589\n"
     ]
    },
    {
     "name": "stderr",
     "output_type": "stream",
     "text": [
      "\n"
     ]
    }
   ],
   "source": [
    "import torch\n",
    "import torch.nn as nn\n",
    "import torch.optim as optim\n",
    "from torch.utils.data import DataLoader, Dataset\n",
    "import torch.nn.functional as F\n",
    "from sklearn.metrics import accuracy_score\n",
    "import numpy as np\n",
    "from datasets import load_dataset\n",
    "from transformers import AutoTokenizer\n",
    "import math\n",
    "from tqdm import tqdm\n",
    "import matplotlib.pyplot as plt\n",
    "\n",
    "device = torch.device('cuda' if torch.cuda.is_available() else 'cpu')\n",
    "print(f\"Using device: {device}\")\n",
    "if torch.cuda.is_available():\n",
    "    print(f\"GPU: {torch.cuda.get_device_name(0)}\")\n",
    "\n",
    "class LSTMQuestionAnswering(nn.Module):\n",
    "    def __init__(self, vocab_size, embed_dim=128, hidden_dim=256, num_layers=2, dropout=0.3):\n",
    "        super(LSTMQuestionAnswering, self).__init__()\n",
    "        \n",
    "        self.embedding = nn.Embedding(vocab_size, embed_dim, padding_idx=0)\n",
    "        self.lstm = nn.LSTM(embed_dim, hidden_dim, num_layers, batch_first=True, \n",
    "                           dropout=dropout, bidirectional=True)\n",
    "        \n",
    "        self.hidden_dim = hidden_dim * 2     \n",
    "        self.question_lstm = nn.LSTM(embed_dim, hidden_dim, num_layers, batch_first=True, \n",
    "                                   dropout=dropout, bidirectional=True)\n",
    "        self.context_lstm = nn.LSTM(embed_dim, hidden_dim, num_layers, batch_first=True, \n",
    "                                  dropout=dropout, bidirectional=True)\n",
    "        self.attention = nn.MultiheadAttention(self.hidden_dim, num_heads=8, dropout=dropout)\n",
    "        self.start_classifier = nn.Linear(self.hidden_dim, 1)\n",
    "        self.end_classifier = nn.Linear(self.hidden_dim, 1)\n",
    "        \n",
    "        self.dropout = nn.Dropout(dropout)\n",
    "        \n",
    "    def forward(self, question_ids, context_ids, question_mask=None, context_mask=None):\n",
    "        batch_size = question_ids.size(0)\n",
    "        \n",
    "        question_embedded = self.embedding(question_ids)\n",
    "        context_embedded = self.embedding(context_ids)\n",
    "        \n",
    "        question_output, _ = self.question_lstm(question_embedded)\n",
    "        context_output, _ = self.context_lstm(context_embedded)\n",
    "        \n",
    "        context_output = context_output.transpose(0, 1)  \n",
    "        question_output = question_output.transpose(0, 1) \n",
    "        attended_output, _ = self.attention(context_output, question_output, question_output)\n",
    "        attended_output = attended_output.transpose(0, 1)  \n",
    "        \n",
    "        attended_output = self.dropout(attended_output)\n",
    "        \n",
    "        start_logits = self.start_classifier(attended_output).squeeze(-1)  \n",
    "        end_logits = self.end_classifier(attended_output).squeeze(-1) \n",
    "        \n",
    "        return start_logits, end_logits\n",
    "\n",
    "class QADataset(Dataset):\n",
    "    def __init__(self, dataset, tokenizer, max_length=384):\n",
    "        self.dataset = dataset\n",
    "        self.tokenizer = tokenizer\n",
    "        self.max_length = max_length\n",
    "        \n",
    "    def __len__(self):\n",
    "        return len(self.dataset)\n",
    "    \n",
    "    def __getitem__(self, idx):\n",
    "        example = self.dataset[idx]\n",
    "        \n",
    "        question = example['question'].strip()\n",
    "        context = example['context'].strip()\n",
    "        \n",
    "        question_tokens = self.tokenizer(\n",
    "            question,\n",
    "            max_length=64,  \n",
    "            padding='max_length',\n",
    "            truncation=True,\n",
    "            return_tensors='pt'\n",
    "        )\n",
    "        \n",
    "        context_tokens = self.tokenizer(\n",
    "            context,\n",
    "            max_length=self.max_length,\n",
    "            padding='max_length',\n",
    "            truncation=True,\n",
    "            return_tensors='pt',\n",
    "            return_offsets_mapping=True\n",
    "        )\n",
    "        \n",
    "        answer_data = example.get('answer', '')\n",
    "        answer_start = example.get('answer_start', [])\n",
    "        \n",
    "        if isinstance(answer_data, str):\n",
    "            answer_text = answer_data\n",
    "        else:\n",
    "            answer_text = answer_data if answer_data else \"\"\n",
    "            \n",
    "        if isinstance(answer_start, list) and answer_start:\n",
    "            answer_start_pos = answer_start[0]\n",
    "        else:\n",
    "            answer_start_pos = answer_start if isinstance(answer_start, int) else 0\n",
    "        \n",
    "        start_pos = 0\n",
    "        end_pos = 0\n",
    "        \n",
    "        if answer_text and answer_text.strip():\n",
    "            try:\n",
    "                offsets = context_tokens['offset_mapping'][0]\n",
    "                answer_end_pos = answer_start_pos + len(answer_text)\n",
    "                \n",
    "                for i, (start_char, end_char) in enumerate(offsets):\n",
    "                    if start_char <= answer_start_pos < end_char:\n",
    "                        start_pos = i\n",
    "                    if start_char < answer_end_pos <= end_char:\n",
    "                        end_pos = i\n",
    "                        break\n",
    "                        \n",
    "                if end_pos <= start_pos:\n",
    "                    end_pos = min(start_pos + 1, len(offsets) - 1)\n",
    "                    \n",
    "            except:\n",
    "                start_pos = 0\n",
    "                end_pos = 0\n",
    "        \n",
    "        return {\n",
    "            'question_ids': question_tokens['input_ids'].squeeze(0),\n",
    "            'context_ids': context_tokens['input_ids'].squeeze(0),\n",
    "            'question_mask': question_tokens['attention_mask'].squeeze(0),\n",
    "            'context_mask': context_tokens['attention_mask'].squeeze(0),\n",
    "            'start_position': torch.tensor(start_pos, dtype=torch.long),\n",
    "            'end_position': torch.tensor(end_pos, dtype=torch.long)\n",
    "        }\n",
    "\n",
    "def train_epoch(model, train_loader, optimizer, scheduler, device):\n",
    "    model.train()\n",
    "    total_loss = 0\n",
    "    num_batches = 0\n",
    "    \n",
    "    pbar = tqdm(train_loader, desc=\"Training\")\n",
    "    for batch in pbar:\n",
    "        question_ids = batch['question_ids'].to(device)\n",
    "        context_ids = batch['context_ids'].to(device)\n",
    "        start_positions = batch['start_position'].to(device)\n",
    "        end_positions = batch['end_position'].to(device)\n",
    "        \n",
    "        optimizer.zero_grad()\n",
    "        \n",
    "        start_logits, end_logits = model(question_ids, context_ids)\n",
    "        \n",
    "        start_loss = F.cross_entropy(start_logits, start_positions)\n",
    "        end_loss = F.cross_entropy(end_logits, end_positions)\n",
    "        loss = start_loss + end_loss\n",
    "        \n",
    "        loss.backward()\n",
    "        torch.nn.utils.clip_grad_norm_(model.parameters(), max_norm=1.0)\n",
    "        optimizer.step()\n",
    "        scheduler.step()\n",
    "        \n",
    "        total_loss += loss.item()\n",
    "        num_batches += 1\n",
    "        \n",
    "        pbar.set_postfix({'loss': f'{loss.item():.4f}', 'avg_loss': f'{total_loss/num_batches:.4f}'})\n",
    "    \n",
    "    return total_loss / num_batches\n",
    "\n",
    "def evaluate_model(model, val_loader, device):\n",
    "    model.eval()\n",
    "    total_loss = 0\n",
    "    correct_start = 0\n",
    "    correct_end = 0\n",
    "    total_samples = 0\n",
    "    \n",
    "    with torch.no_grad():\n",
    "        for batch in tqdm(val_loader, desc=\"Evaluating\"):\n",
    "            question_ids = batch['question_ids'].to(device)\n",
    "            context_ids = batch['context_ids'].to(device)\n",
    "            start_positions = batch['start_position'].to(device)\n",
    "            end_positions = batch['end_position'].to(device)\n",
    "            \n",
    "            start_logits, end_logits = model(question_ids, context_ids)\n",
    "            \n",
    "            start_loss = F.cross_entropy(start_logits, start_positions)\n",
    "            end_loss = F.cross_entropy(end_logits, end_positions)\n",
    "            loss = start_loss + end_loss\n",
    "            \n",
    "            total_loss += loss.item()\n",
    "            \n",
    "            pred_start = torch.argmax(start_logits, dim=1)\n",
    "            pred_end = torch.argmax(end_logits, dim=1)\n",
    "            \n",
    "            correct_start += (pred_start == start_positions).sum().item()\n",
    "            correct_end += (pred_end == end_positions).sum().item()\n",
    "            total_samples += start_positions.size(0)\n",
    "    \n",
    "    avg_loss = total_loss / len(val_loader)\n",
    "    start_accuracy = correct_start / total_samples\n",
    "    end_accuracy = correct_end / total_samples\n",
    "    \n",
    "    return avg_loss, start_accuracy, end_accuracy\n",
    "\n",
    "def evaluate_by_language(model, dataset, tokenizer, languages, device):\n",
    "    \"\"\"Evaluate model performance for each language separately\"\"\"\n",
    "    results = {}\n",
    "    \n",
    "    for lang in languages:\n",
    "        print(f\"\\n Evaluating {lang.lower()} \")\n",
    "        \n",
    "        lang_dataset = dataset.filter(lambda example: example['lang'] == lang)\n",
    "        print(f\"Number of {lang} validation examples: {len(lang_dataset)}\")\n",
    "        \n",
    "        if len(lang_dataset) == 0:\n",
    "            print(f\"No validation examples found for language: {lang}\")\n",
    "            continue\n",
    "        \n",
    "        lang_qa_dataset = QADataset(lang_dataset, tokenizer)\n",
    "        lang_loader = DataLoader(lang_qa_dataset, batch_size=16, shuffle=False)\n",
    "        \n",
    "        avg_loss, start_acc, end_acc = evaluate_model(model, lang_loader, device)\n",
    "        perplexity = math.exp(avg_loss)\n",
    "        \n",
    "        results[lang] = {\n",
    "            'loss': avg_loss,\n",
    "            'perplexity': perplexity,\n",
    "            'start_accuracy': start_acc,\n",
    "            'end_accuracy': end_acc\n",
    "        }\n",
    "        \n",
    "        print(f\"{lang.upper()} Loss: {avg_loss:.4f}\")\n",
    "        print(f\"{lang.upper()} Perplexity: {perplexity:.2f}\")\n",
    "        print(f\"{lang.upper()} Start Position Accuracy: {start_acc:.4f}\")\n",
    "        print(f\"{lang.upper()} End Position Accuracy: {end_acc:.4f}\")\n",
    "    \n",
    "    return results\n",
    "\n",
    "def main():\n",
    "    print(\"Loading dataset and tokenizer...\")\n",
    "    dataset = load_dataset(\"coastalcph/tydi_xor_rc\")\n",
    "    languages = ['ar', 'ko', 'te']\n",
    "    train_dataset = dataset[\"train\"].filter(lambda example: example['lang'] in languages)\n",
    "    val_dataset = dataset[\"validation\"].filter(lambda example: example['lang'] in languages)\n",
    "\n",
    "    tokenizer = AutoTokenizer.from_pretrained(\"google-bert/bert-base-uncased\")\n",
    "\n",
    "    print(f\"Train dataset size: {len(train_dataset)}\")\n",
    "    print(f\"Validation dataset size: {len(val_dataset)}\")\n",
    "\n",
    "\n",
    "    train_qa_dataset = QADataset(train_dataset, tokenizer)\n",
    "    val_qa_dataset = QADataset(val_dataset, tokenizer)\n",
    "\n",
    "    batch_size = 16\n",
    "    train_loader = DataLoader(train_qa_dataset, batch_size=batch_size, shuffle=True)\n",
    "    val_loader = DataLoader(val_qa_dataset, batch_size=batch_size, shuffle=False)\n",
    "\n",
    "    vocab_size = tokenizer.vocab_size\n",
    "    model = LSTMQuestionAnswering(vocab_size=vocab_size, embed_dim=128, hidden_dim=256, num_layers=2).to(device)\n",
    "\n",
    "    print(f\"Model parameters: {sum(p.numel() for p in model.parameters()):,}\")\n",
    "    print(f\"Trainable parameters: {sum(p.numel() for p in model.parameters() if p.requires_grad):,}\")\n",
    "\n",
    "    num_epochs = 10\n",
    "    optimizer = optim.AdamW(model.parameters(), lr=2e-4, weight_decay=0.01)\n",
    "    scheduler = optim.lr_scheduler.LinearLR(optimizer, start_factor=1.0, end_factor=0.1, \n",
    "                                          total_iters=len(train_loader) * num_epochs)\n",
    "\n",
    "    for epoch in range(num_epochs):\n",
    "        print(f\"\\nEpoch {epoch + 1}/{num_epochs}\")\n",
    "        \n",
    "        train_loss = train_epoch(model, train_loader, optimizer, scheduler, device)\n",
    "        print(f\"Training Loss: {train_loss:.4f}\")\n",
    "        \n",
    "        if (epoch + 1) % 1 == 0: \n",
    "            print(\"\\nEvaluating on validation set...\")\n",
    "            val_loss, start_acc, end_acc = evaluate_model(model, val_loader, device)\n",
    "            val_perplexity = math.exp(val_loss)\n",
    "            \n",
    "            print(f\"Validation Loss: {val_loss:.4f}\")\n",
    "            print(f\"Validation Perplexity: {val_perplexity:.2f}\")\n",
    "            print(f\"Start Position Accuracy: {start_acc:.4f}\")\n",
    "            print(f\"End Position Accuracy: {end_acc:.4f}\")\n",
    "\n",
    "    print(\"Evaluation\")\n",
    "    overall_loss, overall_start_acc, overall_end_acc = evaluate_model(model, val_loader, device)\n",
    "    overall_perplexity = math.exp(overall_loss)\n",
    "    \n",
    "    print(f\"Overall Loss: {overall_loss:.4f}\")\n",
    "    print(f\"Overall Perplexity: {overall_perplexity:.2f}\")\n",
    "    print(f\"Overall Start Position Accuracy: {overall_start_acc:.4f}\")\n",
    "    print(f\"Overall End Position Accuracy: {overall_end_acc:.4f}\")\n",
    "\n",
    "    print(\"\\nLanguage-specific Evaluations\")\n",
    "    lang_results = evaluate_by_language(model, val_dataset, tokenizer, languages, device)\n",
    "\n",
    "if __name__ == \"__main__\":\n",
    "    main()\n"
   ]
  }
 ],
 "metadata": {
  "kernelspec": {
   "display_name": "Python 3",
   "language": "python",
   "name": "python3"
  },
  "language_info": {
   "codemirror_mode": {
    "name": "ipython",
    "version": 3
   },
   "file_extension": ".py",
   "mimetype": "text/x-python",
   "name": "python",
   "nbconvert_exporter": "python",
   "pygments_lexer": "ipython3",
   "version": "3.10.0"
  }
 },
 "nbformat": 4,
 "nbformat_minor": 5
}
