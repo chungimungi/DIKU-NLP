{
 "cells": [
  {
   "cell_type": "markdown",
   "id": "c6717fcf",
   "metadata": {},
   "source": [
    "Data Fetch"
   ]
  },
  {
   "cell_type": "code",
   "execution_count": 7,
   "id": "c591b977",
   "metadata": {},
   "outputs": [],
   "source": [
    "import pandas as pd\n",
    "import regex as re\n",
    "from datasets import load_dataset\n",
    "\n",
    "dataset = load_dataset(\"coastalcph/tydi_xor_rc\")\n",
    "languages = ['ar', 'ko', 'te']\n",
    "\n",
    "train = dataset[\"train\"].filter(lambda example: example['lang'] in languages).to_pandas()\n",
    "val = dataset[\"validation\"].filter(lambda example: example['lang'] in languages).to_pandas()\n",
    "\n",
    "train_data = {lang: train[train['lang'] == lang] for lang in languages}\n",
    "val_data   = {lang: val[val['lang'] == lang] for lang in languages}\n"
   ]
  },
  {
   "cell_type": "markdown",
   "id": "9d2c9c4b",
   "metadata": {},
   "source": [
    "Try three classifiers: Logistic regression / SVM / Naive Bayes"
   ]
  },
  {
   "cell_type": "code",
   "execution_count": 18,
   "id": "2c48b62d",
   "metadata": {},
   "outputs": [],
   "source": [
    "from sklearn.feature_extraction.text import TfidfVectorizer\n",
    "from sklearn.linear_model import LogisticRegression\n",
    "from sklearn.svm import LinearSVC\n",
    "from sklearn.naive_bayes import MultinomialNB\n",
    "\n",
    "models = {\n",
    "    \"LogReg\": LogisticRegression(max_iter=1000),\n",
    "    \"SVM\": LinearSVC(),\n",
    "    \"LogReg w Bal\": LogisticRegression(max_iter=1000, class_weight=\"balanced\"),\n",
    "    \"SVM w Bal\": LinearSVC(class_weight=\"balanced\"),\n",
    "    \"NB\": MultinomialNB()\n",
    "}"
   ]
  },
  {
   "cell_type": "markdown",
   "id": "afb7879b",
   "metadata": {},
   "source": [
    "Training and Evaluation for n-gram based model"
   ]
  },
  {
   "cell_type": "code",
   "execution_count": 26,
   "id": "19240386",
   "metadata": {},
   "outputs": [
    {
     "name": "stdout",
     "output_type": "stream",
     "text": [
      "ar: \n",
      "Train class distribution: Counter({1: 2303, 0: 255})\n",
      "Val class distribution: Counter({1: 363, 0: 52})\n",
      "-----------------------------------------------\n",
      "      LogReg | Accuracy: 0.8747 | F1: 0.4666\n",
      "         SVM | Accuracy: 0.9060 | F1: 0.6745\n",
      "LogReg w Bal | Accuracy: 0.9229 | F1: 0.8115\n",
      "   SVM w Bal | Accuracy: 0.9325 | F1: 0.8019\n",
      "          NB | Accuracy: 0.8747 | F1: 0.4666\n",
      "ko: \n",
      "Train class distribution: Counter({1: 2359, 0: 63})\n",
      "Val class distribution: Counter({1: 337, 0: 19})\n",
      "-----------------------------------------------\n",
      "      LogReg | Accuracy: 0.9466 | F1: 0.4863\n",
      "         SVM | Accuracy: 0.9466 | F1: 0.4863\n",
      "LogReg w Bal | Accuracy: 0.9382 | F1: 0.5257\n",
      "   SVM w Bal | Accuracy: 0.9466 | F1: 0.4863\n",
      "          NB | Accuracy: 0.9466 | F1: 0.4863\n",
      "te: \n",
      "Train class distribution: Counter({1: 1310, 0: 45})\n",
      "Val class distribution: Counter({1: 291, 0: 93})\n",
      "-----------------------------------------------\n",
      "      LogReg | Accuracy: 0.7578 | F1: 0.4311\n",
      "         SVM | Accuracy: 0.7552 | F1: 0.4773\n",
      "LogReg w Bal | Accuracy: 0.7682 | F1: 0.5854\n",
      "   SVM w Bal | Accuracy: 0.7604 | F1: 0.5262\n",
      "          NB | Accuracy: 0.7578 | F1: 0.4311\n"
     ]
    }
   ],
   "source": [
    "from sklearn.metrics import accuracy_score, f1_score\n",
    "from collections import Counter\n",
    "\n",
    "results = {}\n",
    "\n",
    "for lang in languages:\n",
    "    print(f\"{lang}: \")\n",
    "    train_df, val_df = train_data[lang], val_data[lang]\n",
    "\n",
    "    train_counts = train_df[\"answerable\"].value_counts(normalize=True)\n",
    "    val_counts   = val_df[\"answerable\"].value_counts(normalize=True)\n",
    "    \n",
    "    # extract tf-idf weights for unigram, bigram, trigram\n",
    "    vec = TfidfVectorizer(analyzer=\"word\", ngram_range=(1,3), max_features=20000)\n",
    "\n",
    "    x_train = vec.fit_transform(train_df[\"context\"] + \" \" + train_df[\"question\"])\n",
    "    y_train = train_df[\"answerable\"].astype(int).values\n",
    "\n",
    "    x_val = vec.transform(val_df[\"context\"] + \" \" + val_df[\"question\"])\n",
    "    y_val = val_df[\"answerable\"].astype(int).values\n",
    "\n",
    "    print(\"Train class distribution:\", Counter(y_train))\n",
    "    print(\"Val class distribution:\", Counter(y_val))\n",
    "    print(\"-----------------------------------------------\")\n",
    "    \n",
    "    results[lang] = {}\n",
    "    \n",
    "    for name, model in models.items():\n",
    "        model.fit(x_train, y_train)\n",
    "        y_pred = model.predict(x_val)\n",
    "\n",
    "        acc = accuracy_score(y_val, y_pred)\n",
    "        f1 = f1_score(y_val, y_pred, average=\"macro\")\n",
    "        \n",
    "        print(f\"{name:>12} | Accuracy: {acc:.4f} | F1: {f1:.4f}\")\n",
    "        \n",
    "        results[lang][name] = {\"accuracy\": acc, \"macro_f1\": f1}\n"
   ]
  },
  {
   "cell_type": "markdown",
   "id": "bf0d1a40",
   "metadata": {},
   "source": [
    "Training and Evaluation for character n-grams"
   ]
  },
  {
   "cell_type": "code",
   "execution_count": 33,
   "id": "bf7dc1d6",
   "metadata": {},
   "outputs": [
    {
     "name": "stdout",
     "output_type": "stream",
     "text": [
      "ar: \n",
      "-----------------------------------------------\n",
      "      LogReg | Accuracy: 0.8747 | F1: 0.4666\n",
      "         SVM | Accuracy: 0.9133 | F1: 0.7117\n",
      "LogReg w Bal | Accuracy: 0.8988 | F1: 0.7765\n",
      "   SVM w Bal | Accuracy: 0.9349 | F1: 0.8301\n",
      "          NB | Accuracy: 0.8747 | F1: 0.4666\n",
      "ko: \n",
      "-----------------------------------------------\n",
      "      LogReg | Accuracy: 0.9466 | F1: 0.4863\n",
      "         SVM | Accuracy: 0.9466 | F1: 0.4863\n",
      "LogReg w Bal | Accuracy: 0.9185 | F1: 0.5643\n",
      "   SVM w Bal | Accuracy: 0.9466 | F1: 0.5339\n",
      "          NB | Accuracy: 0.9466 | F1: 0.4863\n",
      "te: \n",
      "-----------------------------------------------\n",
      "      LogReg | Accuracy: 0.7578 | F1: 0.4311\n",
      "         SVM | Accuracy: 0.7578 | F1: 0.4870\n",
      "LogReg w Bal | Accuracy: 0.7318 | F1: 0.5989\n",
      "   SVM w Bal | Accuracy: 0.7630 | F1: 0.5812\n",
      "          NB | Accuracy: 0.7578 | F1: 0.4311\n"
     ]
    }
   ],
   "source": [
    "results = {}\n",
    "\n",
    "for lang in languages:\n",
    "    print(f\"{lang}: \")\n",
    "    train_df, val_df = train_data[lang], val_data[lang]\n",
    "\n",
    "    train_counts = train_df[\"answerable\"].value_counts(normalize=True)\n",
    "    val_counts   = val_df[\"answerable\"].value_counts(normalize=True)\n",
    "    \n",
    "    # extract tf-idf weights for unigram, bigram, trigram\n",
    "    vec = TfidfVectorizer(analyzer=\"char\", ngram_range=(2,40), max_features=20000)\n",
    "\n",
    "    x_train = vec.fit_transform(train_df[\"context\"] + \" \" + train_df[\"question\"])\n",
    "    y_train = train_df[\"answerable\"].astype(int).values\n",
    "\n",
    "    x_val = vec.transform(val_df[\"context\"] + \" \" + val_df[\"question\"])\n",
    "    y_val = val_df[\"answerable\"].astype(int).values\n",
    "\n",
    "    print(\"-----------------------------------------------\")\n",
    "    \n",
    "    results[lang] = {}\n",
    "    \n",
    "    for name, model in models.items():\n",
    "        model.fit(x_train, y_train)\n",
    "        y_pred = model.predict(x_val)\n",
    "\n",
    "        acc = accuracy_score(y_val, y_pred)\n",
    "        f1 = f1_score(y_val, y_pred, average=\"macro\")\n",
    "        \n",
    "        print(f\"{name:>12} | Accuracy: {acc:.4f} | F1: {f1:.4f}\")\n",
    "        \n",
    "        results[lang][name] = {\"accuracy\": acc, \"macro_f1\": f1}\n"
   ]
  }
 ],
 "metadata": {
  "kernelspec": {
   "display_name": "Python 3",
   "language": "python",
   "name": "python3"
  },
  "language_info": {
   "codemirror_mode": {
    "name": "ipython",
    "version": 3
   },
   "file_extension": ".py",
   "mimetype": "text/x-python",
   "name": "python",
   "nbconvert_exporter": "python",
   "pygments_lexer": "ipython3",
   "version": "3.10.0"
  }
 },
 "nbformat": 4,
 "nbformat_minor": 5
}
